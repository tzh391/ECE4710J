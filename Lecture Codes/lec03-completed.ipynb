{
 "cells": [
  {
   "cell_type": "markdown",
   "metadata": {
    "nbgrader": {
     "grade": false,
     "grade_id": "running-a-cell",
     "locked": true,
     "schema_version": 2,
     "solution": false
    }
   },
   "source": [
    "---\n",
    "## Part 1: Jupyter Tips\n"
   ]
  },
  {
   "cell_type": "code",
   "execution_count": null,
   "metadata": {},
   "outputs": [],
   "source": []
  },
  {
   "cell_type": "markdown",
   "metadata": {},
   "source": [
    "### Viewing Documentation\n",
    "\n",
    "To output the documentation for a function, use the `help` function."
   ]
  },
  {
   "cell_type": "code",
   "execution_count": 1,
   "metadata": {
    "ExecuteTime": {
     "end_time": "2019-01-18T23:27:51.618364Z",
     "start_time": "2019-01-18T23:27:51.596329Z"
    }
   },
   "outputs": [
    {
     "name": "stdout",
     "output_type": "stream",
     "text": [
      "Help on built-in function print in module builtins:\n",
      "\n",
      "print(...)\n",
      "    print(value, ..., sep=' ', end='\\n', file=sys.stdout, flush=False)\n",
      "    \n",
      "    Prints the values to a stream, or to sys.stdout by default.\n",
      "    Optional keyword arguments:\n",
      "    file:  a file-like object (stream); defaults to the current sys.stdout.\n",
      "    sep:   string inserted between values, default a space.\n",
      "    end:   string appended after the last value, default a newline.\n",
      "    flush: whether to forcibly flush the stream.\n",
      "\n"
     ]
    }
   ],
   "source": [
    "help(print)"
   ]
  },
  {
   "cell_type": "markdown",
   "metadata": {},
   "source": [
    "You can also use Jupyter to view function documentation inside your notebook. The function must already be defined in the kernel for this to work.\n",
    "\n",
    "Below, click your mouse anywhere on the `print` block below and use `Shift` + `Tab` to view the function's documentation. "
   ]
  },
  {
   "cell_type": "code",
   "execution_count": 2,
   "metadata": {
    "ExecuteTime": {
     "end_time": "2019-01-18T23:27:51.642969Z",
     "start_time": "2019-01-18T23:27:51.620450Z"
    }
   },
   "outputs": [
    {
     "name": "stdout",
     "output_type": "stream",
     "text": [
      "Welcome to ECE 4710J.\n"
     ]
    }
   ],
   "source": [
    "print('Welcome to ECE 4710J.')"
   ]
  },
  {
   "cell_type": "markdown",
   "metadata": {},
   "source": [
    "### Importing Libraries and Magic Commands\n",
    "\n",
    "In the course, we will be using common Python libraries to help us process data. By convention, we import all libraries at the very top of the notebook. There are also a set of standard aliases that are used to shorten the library names. Below are some of the libraries that you may encounter throughout the course, along with their respective aliases."
   ]
  },
  {
   "cell_type": "code",
   "execution_count": 3,
   "metadata": {
    "ExecuteTime": {
     "end_time": "2019-01-18T23:27:53.746048Z",
     "start_time": "2019-01-18T23:27:51.644613Z"
    }
   },
   "outputs": [],
   "source": [
    "import pandas as pd\n",
    "import numpy as np\n",
    "import matplotlib.pyplot as plt\n",
    "plt.style.use('fivethirtyeight')\n",
    "%matplotlib inline\n"
   ]
  },
  {
   "cell_type": "markdown",
   "metadata": {},
   "source": [
    "`%matplotlib inline` is a [Jupyter magic command](https://ipython.readthedocs.io/en/stable/interactive/magics.html) that configures the notebook so that Matplotlib displays any plots that you draw directly in the notebook rather than to a file, allowing you to view the plots upon executing your code. (Note: In practice, this is no longer necessary, but we're showing it to you now anyway.)\n",
    "\n",
    "Another useful magic command is `%%time`, which times the execution of that cell. You can use this by writing it as the first line of a cell. (Note that `%%` is used for *cell magic commands* that apply to the entire cell, whereas `%` is used for *line magic commands* that only apply to a single line.)"
   ]
  },
  {
   "cell_type": "code",
   "execution_count": 5,
   "metadata": {
    "ExecuteTime": {
     "end_time": "2019-01-18T23:27:53.755085Z",
     "start_time": "2019-01-18T23:27:53.749765Z"
    }
   },
   "outputs": [
    {
     "name": "stdout",
     "output_type": "stream",
     "text": [
      "CPU times: user 17 µs, sys: 0 ns, total: 17 µs\n",
      "Wall time: 20 µs\n"
     ]
    }
   ],
   "source": [
    "%%time\n",
    "\n",
    "lst = []\n",
    "for i in range(100):\n",
    "    lst.append(i)"
   ]
  },
  {
   "cell_type": "markdown",
   "metadata": {},
   "source": [
    "---\n",
    "## Part 2: Prerequisites\n",
    "\n",
    "It's time to answer some review questions. Each question has a response cell directly below it. Most response cells are followed by a test cell that runs automated tests to check your work. Please don't delete questions, response cells, or test cells. You won't get credit for your work if you do.\n",
    "\n",
    "If you have extra content in a response cell, such as an example call to a function you're implementing, that's fine. Also, feel free to add cells between the question cells and test cells (or the next cell, for questions without test cases). Any extra cells you add will be considered part of your submission. Finally, when you finish an assignment, make sure to \"restart and run all cells\" to ensure everything works properly. \n",
    "\n",
    "Note that for labs, ontime submissions that pass all the test cases will receive full credit. However for homeworks, test cells don't always confirm that your response is correct. They are meant to give you some useful feedback, but it's your responsibility to ensure your response answers the question correctly. There may be other tests that we run when scoring your notebooks. We **strongly recommend** that you check your solutions yourself rather than just relying on the test cells."
   ]
  },
  {
   "cell_type": "markdown",
   "metadata": {},
   "source": [
    "### Python\n",
    " If any of the following exercises are challenging (or if you would like to refresh your Python knowledge), please review one or more of the following materials.\n",
    "\n",
    "- **[Python Tutorial](https://docs.python.org/3.8/tutorial/)**: Introduction to Python from the creators of Python.\n",
    "- **[Composing Programs Chapter 1](http://composingprograms.com/pages/11-getting-started.html)**: This is more of a introduction to programming with Python.\n",
    "- **[Advanced Crash Course](http://cs231n.github.io/python-numpy-tutorial/)**: A fast crash course which assumes some programming background."
   ]
  },
  {
   "cell_type": "markdown",
   "metadata": {},
   "source": [
    "### NumPy\n",
    "\n",
    "NumPy is the numerical computing module, which is a prerequisite for this course. Here's a quick recap of NumPy. For more review, read the following materials.\n",
    "\n",
    "- **[NumPy Quick Start Tutorial](https://numpy.org/doc/stable/user/quickstart.html)**\n",
    "- **[Stanford CS231n NumPy Tutorial](http://cs231n.github.io/python-numpy-tutorial/#numpy)**"
   ]
  },
  {
   "cell_type": "markdown",
   "metadata": {
    "deletable": false
   },
   "source": [
    "### Question 1\n",
    "\n",
    "The core of NumPy is the array. Like Python lists, arrays store data; however, they store data in a more efficient manner. In many cases, this allows for faster computation and data manipulation.\n",
    "\n",
    "we use `np.array` to create an array. It takes a sequence, such as a list or range. \n",
    "\n",
    "Below, create an array `arr` containing the values 1, 2, 3, 4, and 5 (in that order).\n",
    "\n",
    "<!--\n",
    "BEGIN QUESTION\n",
    "name: q1\n",
    "-->"
   ]
  },
  {
   "cell_type": "code",
   "execution_count": 6,
   "metadata": {
    "ExecuteTime": {
     "end_time": "2019-01-18T23:27:53.985409Z",
     "start_time": "2019-01-18T23:27:53.949516Z"
    }
   },
   "outputs": [],
   "source": [
    "arr = np.array([1,2,3,4,5])"
   ]
  },
  {
   "cell_type": "markdown",
   "metadata": {},
   "source": [
    "In addition to values in the array, we can access attributes such as shape and data type. A full list of attributes can be found [here](https://docs.scipy.org/doc/numpy-1.15.0/reference/arrays.ndarray.html#array-attributes)."
   ]
  },
  {
   "cell_type": "code",
   "execution_count": 7,
   "metadata": {
    "ExecuteTime": {
     "end_time": "2019-01-18T23:27:54.069669Z",
     "start_time": "2019-01-18T23:27:54.036105Z"
    }
   },
   "outputs": [
    {
     "data": {
      "text/plain": [
       "4"
      ]
     },
     "execution_count": 7,
     "metadata": {},
     "output_type": "execute_result"
    }
   ],
   "source": [
    "arr[3]"
   ]
  },
  {
   "cell_type": "code",
   "execution_count": 8,
   "metadata": {
    "ExecuteTime": {
     "end_time": "2019-01-18T23:27:54.099933Z",
     "start_time": "2019-01-18T23:27:54.072605Z"
    }
   },
   "outputs": [
    {
     "data": {
      "text/plain": [
       "array([3, 4])"
      ]
     },
     "execution_count": 8,
     "metadata": {},
     "output_type": "execute_result"
    }
   ],
   "source": [
    "arr[2:4]"
   ]
  },
  {
   "cell_type": "code",
   "execution_count": 9,
   "metadata": {
    "ExecuteTime": {
     "end_time": "2019-01-18T23:27:54.124874Z",
     "start_time": "2019-01-18T23:27:54.101938Z"
    }
   },
   "outputs": [
    {
     "data": {
      "text/plain": [
       "(5,)"
      ]
     },
     "execution_count": 9,
     "metadata": {},
     "output_type": "execute_result"
    }
   ],
   "source": [
    "arr.shape"
   ]
  },
  {
   "cell_type": "code",
   "execution_count": 10,
   "metadata": {
    "ExecuteTime": {
     "end_time": "2019-01-18T23:27:54.148914Z",
     "start_time": "2019-01-18T23:27:54.127372Z"
    },
    "scrolled": true
   },
   "outputs": [
    {
     "data": {
      "text/plain": [
       "dtype('int64')"
      ]
     },
     "execution_count": 10,
     "metadata": {},
     "output_type": "execute_result"
    }
   ],
   "source": [
    "arr.dtype"
   ]
  },
  {
   "cell_type": "markdown",
   "metadata": {},
   "source": [
    "Arrays, unlike Python lists, cannot store items of different data types."
   ]
  },
  {
   "cell_type": "code",
   "execution_count": 11,
   "metadata": {
    "ExecuteTime": {
     "end_time": "2019-01-18T23:27:54.173873Z",
     "start_time": "2019-01-18T23:27:54.150888Z"
    }
   },
   "outputs": [
    {
     "data": {
      "text/plain": [
       "[1, '3']"
      ]
     },
     "execution_count": 11,
     "metadata": {},
     "output_type": "execute_result"
    }
   ],
   "source": [
    "# A regular Python list can store items of different data types\n",
    "[1, '3']"
   ]
  },
  {
   "cell_type": "code",
   "execution_count": 13,
   "metadata": {
    "ExecuteTime": {
     "end_time": "2019-01-18T23:27:54.198281Z",
     "start_time": "2019-01-18T23:27:54.176631Z"
    }
   },
   "outputs": [
    {
     "data": {
      "text/plain": [
       "array(['1', '3'], dtype='<U21')"
      ]
     },
     "execution_count": 13,
     "metadata": {},
     "output_type": "execute_result"
    }
   ],
   "source": [
    "# Arrays will convert everything to the same data type\n",
    "np.array([1, '3'])"
   ]
  },
  {
   "cell_type": "code",
   "execution_count": 14,
   "metadata": {
    "ExecuteTime": {
     "end_time": "2019-01-18T23:27:54.227988Z",
     "start_time": "2019-01-18T23:27:54.200270Z"
    }
   },
   "outputs": [
    {
     "data": {
      "text/plain": [
       "array([5. , 8.3])"
      ]
     },
     "execution_count": 14,
     "metadata": {},
     "output_type": "execute_result"
    }
   ],
   "source": [
    "# Another example of array type conversion\n",
    "np.array([5, 8.3])"
   ]
  },
  {
   "cell_type": "markdown",
   "metadata": {},
   "source": [
    "Arrays are also useful in performing *vectorized operations*. Given two or more arrays of equal length, arithmetic will perform element-wise computations across the arrays. \n",
    "\n",
    "For example, observe the following:"
   ]
  },
  {
   "cell_type": "code",
   "execution_count": 15,
   "metadata": {
    "ExecuteTime": {
     "end_time": "2019-01-18T23:27:54.266157Z",
     "start_time": "2019-01-18T23:27:54.231648Z"
    }
   },
   "outputs": [
    {
     "data": {
      "text/plain": [
       "[1, 2, 3, 4, 5, 6]"
      ]
     },
     "execution_count": 15,
     "metadata": {},
     "output_type": "execute_result"
    }
   ],
   "source": [
    "# Python list addition will concatenate the two lists\n",
    "[1, 2, 3] + [4, 5, 6]"
   ]
  },
  {
   "cell_type": "code",
   "execution_count": 16,
   "metadata": {
    "ExecuteTime": {
     "end_time": "2019-01-18T23:27:54.299682Z",
     "start_time": "2019-01-18T23:27:54.269136Z"
    }
   },
   "outputs": [
    {
     "data": {
      "text/plain": [
       "array([5, 7, 9])"
      ]
     },
     "execution_count": 16,
     "metadata": {},
     "output_type": "execute_result"
    }
   ],
   "source": [
    "# NumPy array addition will add them element-wise\n",
    "np.array([1, 2, 3]) + np.array([4, 5, 6])"
   ]
  },
  {
   "cell_type": "markdown",
   "metadata": {},
   "source": [
    "### Question 2"
   ]
  },
  {
   "cell_type": "markdown",
   "metadata": {
    "deletable": false,
    "editable": false
   },
   "source": [
    "#### Question 2a\n",
    "\n",
    "Write a function `summation` that evaluates the following summation for $n \\geq 1$:\n",
    "\n",
    "$$\\sum_{i=1}^{n} i^3 + 3 i^2$$\n",
    "\n",
    "**Note**: You should not use `for` loops in your solution. Check the [NumPy documentation](https://numpy.org/doc/1.18/reference/index.html). If you're stuck, try a search engine! Searching the web for examples of how to use modules is very common in data science.\n",
    "\n",
    "<!--\n",
    "BEGIN QUESTION\n",
    "name: q2a\n",
    "-->"
   ]
  },
  {
   "cell_type": "code",
   "execution_count": 17,
   "metadata": {
    "ExecuteTime": {
     "end_time": "2019-01-18T23:27:53.778780Z",
     "start_time": "2019-01-18T23:27:53.758946Z"
    }
   },
   "outputs": [],
   "source": [
    "def summation(n):\n",
    "    \"\"\"Compute the summation i^3 + 3 * i^2 for 1 <= i <= n.\"\"\"\n",
    "    \n",
    "    i = np.arange(1,n+1)\n",
    "    return(np.sum(i**3+3*i**2))"
   ]
  },
  {
   "cell_type": "code",
   "execution_count": 19,
   "metadata": {},
   "outputs": [
    {
     "data": {
      "text/plain": [
       "24"
      ]
     },
     "execution_count": 19,
     "metadata": {},
     "output_type": "execute_result"
    }
   ],
   "source": [
    "summation(2)"
   ]
  },
  {
   "cell_type": "markdown",
   "metadata": {
    "deletable": false,
    "editable": false
   },
   "source": [
    "#### Question 2b\n",
    "\n",
    "Write a function `elementwise_array_sum` that computes the square of each value in `list_1`, the cube of each value in `list_2`, then returns a list containing the element-wise sum of these results. Assume that `list_1` and `list_2` have the same number of elements.\n",
    "\n",
    "The input parameters will both be **python lists**, so you may need to convert the lists into arrays before performing your operations. The output should be a **numpy array.**\n",
    "\n",
    "\n",
    "\n",
    "<!--\n",
    "BEGIN QUESTION\n",
    "name: q2b\n",
    "-->"
   ]
  },
  {
   "cell_type": "code",
   "execution_count": 21,
   "metadata": {
    "ExecuteTime": {
     "end_time": "2019-01-18T23:27:53.847700Z",
     "start_time": "2019-01-18T23:27:53.812524Z"
    }
   },
   "outputs": [],
   "source": [
    "def elementwise_array_sum(list_1, list_2):\n",
    "    \"\"\"Compute x^2 + y^3 for each x, y in list_1, list_2. \n",
    "    \n",
    "    Assume list_1 and list_2 have the same length.\n",
    "    \n",
    "    Return a NumPy array.\n",
    "    \"\"\"\n",
    "    assert len(list_1) == len(list_2), \"both args must have the same number of elements\"\n",
    "    return np.array(list_1)**2+np.array(list_2)**3"
   ]
  },
  {
   "cell_type": "markdown",
   "metadata": {},
   "source": [
    "You might have been told that Python is slow, but array arithmetic is carried out very fast, even for large arrays. Below is an implementation of the above code that does not use NumPy arrays."
   ]
  },
  {
   "cell_type": "code",
   "execution_count": 22,
   "metadata": {},
   "outputs": [],
   "source": [
    "def elementwise_list_sum(list_1, list_2):\n",
    "    \"\"\"Compute x^2 + y^3 for each x, y in list_1, list_2. \n",
    "    \n",
    "    Assume list_1 and list_2 have the same length.\n",
    "    \"\"\"\n",
    "\n",
    "    return [x ** 2 + y ** 3 for x, y in zip(list_1, list_2)]"
   ]
  },
  {
   "cell_type": "markdown",
   "metadata": {},
   "source": [
    "For ten numbers, `elementwise_list_sum` and `elementwise_array_sum` both take a similar amount of time."
   ]
  },
  {
   "cell_type": "code",
   "execution_count": 26,
   "metadata": {
    "ExecuteTime": {
     "end_time": "2019-01-18T23:27:54.532950Z",
     "start_time": "2019-01-18T23:27:54.499655Z"
    }
   },
   "outputs": [],
   "source": [
    "sample_list_1 = list(range(10))\n",
    "sample_array_1 = np.arange(10)"
   ]
  },
  {
   "cell_type": "code",
   "execution_count": 24,
   "metadata": {
    "ExecuteTime": {
     "end_time": "2019-01-18T23:27:54.565618Z",
     "start_time": "2019-01-18T23:27:54.537177Z"
    }
   },
   "outputs": [
    {
     "name": "stdout",
     "output_type": "stream",
     "text": [
      "CPU times: user 11 µs, sys: 0 ns, total: 11 µs\n",
      "Wall time: 13.1 µs\n"
     ]
    },
    {
     "data": {
      "text/plain": [
       "[0, 2, 12, 36, 80, 150, 252, 392, 576, 810]"
      ]
     },
     "execution_count": 24,
     "metadata": {},
     "output_type": "execute_result"
    }
   ],
   "source": [
    "%%time\n",
    "elementwise_list_sum(sample_list_1, sample_list_1)"
   ]
  },
  {
   "cell_type": "code",
   "execution_count": 25,
   "metadata": {
    "ExecuteTime": {
     "end_time": "2019-01-18T23:27:54.598741Z",
     "start_time": "2019-01-18T23:27:54.568363Z"
    }
   },
   "outputs": [
    {
     "name": "stdout",
     "output_type": "stream",
     "text": [
      "CPU times: user 41 µs, sys: 9 µs, total: 50 µs\n",
      "Wall time: 54.1 µs\n"
     ]
    },
    {
     "data": {
      "text/plain": [
       "array([  0,   2,  12,  36,  80, 150, 252, 392, 576, 810])"
      ]
     },
     "execution_count": 25,
     "metadata": {},
     "output_type": "execute_result"
    }
   ],
   "source": [
    "%%time\n",
    "elementwise_array_sum(sample_array_1, sample_array_1)"
   ]
  },
  {
   "cell_type": "markdown",
   "metadata": {},
   "source": [
    "The time difference seems negligible for a list/array of size 10; depending on your setup, you may even observe that `elementwise_list_sum` executes faster than `elementwise_array_sum`! However, we will commonly be working with much larger datasets:"
   ]
  },
  {
   "cell_type": "code",
   "execution_count": 27,
   "metadata": {
    "ExecuteTime": {
     "end_time": "2019-01-18T23:27:54.639977Z",
     "start_time": "2019-01-18T23:27:54.604370Z"
    }
   },
   "outputs": [],
   "source": [
    "sample_list_2 = list(range(100000))\n",
    "sample_array_2 = np.arange(100000)"
   ]
  },
  {
   "cell_type": "code",
   "execution_count": 30,
   "metadata": {
    "ExecuteTime": {
     "end_time": "2019-01-18T23:27:54.822043Z",
     "start_time": "2019-01-18T23:27:54.643966Z"
    },
    "scrolled": true
   },
   "outputs": [
    {
     "name": "stdout",
     "output_type": "stream",
     "text": [
      "CPU times: user 74.6 ms, sys: 6.21 ms, total: 80.8 ms\n",
      "Wall time: 80.1 ms\n"
     ]
    },
    {
     "data": {
      "text/plain": [
       "'# The semicolon hides the output'"
      ]
     },
     "execution_count": 30,
     "metadata": {},
     "output_type": "execute_result"
    }
   ],
   "source": [
    "%%time\n",
    "elementwise_list_sum(sample_list_2, sample_list_2)\n",
    "; # The semicolon hides the output"
   ]
  },
  {
   "cell_type": "code",
   "execution_count": 31,
   "metadata": {
    "ExecuteTime": {
     "end_time": "2019-01-18T23:27:54.835570Z",
     "start_time": "2019-01-18T23:27:54.825798Z"
    }
   },
   "outputs": [
    {
     "name": "stdout",
     "output_type": "stream",
     "text": [
      "CPU times: user 2.02 ms, sys: 2.55 ms, total: 4.57 ms\n",
      "Wall time: 6.32 ms\n"
     ]
    },
    {
     "data": {
      "text/plain": [
       "''"
      ]
     },
     "execution_count": 31,
     "metadata": {},
     "output_type": "execute_result"
    }
   ],
   "source": [
    "%%time\n",
    "elementwise_array_sum(sample_array_2, sample_array_2)\n",
    ";"
   ]
  },
  {
   "cell_type": "markdown",
   "metadata": {},
   "source": [
    "With the larger dataset, we see that using NumPy results in code that executes over 50 times faster! Throughout this course (and in the real world), you will find that writing efficient code will be important; arrays and vectorized operations are the most common way of making Python programs run quickly."
   ]
  },
  {
   "cell_type": "markdown",
   "metadata": {
    "deletable": false,
    "editable": false
   },
   "source": [
    "#### Question 2c\n",
    "Recall the formula for population variance below:\n",
    "\n",
    "$$\\sigma^2 = \\frac{\\sum_{i=1}^N (x_i - \\mu)^2}{N}$$\n",
    "\n",
    "Complete the functions below to compute the population variance of `population`, an array of numbers. For this question, **do not use built in NumPy functions, such as `np.var`.** Again, avoid using `for` loops!\n",
    "\n",
    "<!--\n",
    "BEGIN QUESTION\n",
    "name: q2c\n",
    "points: 1\n",
    "-->"
   ]
  },
  {
   "cell_type": "code",
   "execution_count": 32,
   "metadata": {},
   "outputs": [],
   "source": [
    "def mean(population):\n",
    "    \"\"\"\n",
    "    Returns the mean of population (mu)\n",
    "    \n",
    "    Keyword arguments:\n",
    "    population -- a numpy array of numbers\n",
    "    \"\"\"\n",
    "    # Calculate the mean of a population\n",
    "    return sum(population)/len(population)\n",
    "\n",
    "def variance(population):\n",
    "    \"\"\"\n",
    "    Returns the variance of population (sigma squared)\n",
    "    \n",
    "    Keyword arguments:\n",
    "    population -- a numpy array of numbers\n",
    "    \"\"\"\n",
    "    # Calculate the variance of a population\n",
    "    return sum((population-mean(population))**2)/len(population)"
   ]
  },
  {
   "cell_type": "markdown",
   "metadata": {
    "deletable": false,
    "editable": false
   },
   "source": [
    "#### Question 2d\n",
    "\n",
    "Given the array `random_arr`, assign `valid_values` to an array containing all values $x$ such that $2x^4 > 1$.\n",
    "\n",
    "**Note**: You should not use `for` loops in your solution. Instead, look at `numpy`'s documentation on [Boolean Indexing](https://numpy.org/devdocs/reference/arrays.indexing.html). \n",
    "\n",
    "<!--\n",
    "BEGIN QUESTION\n",
    "name: q2d\n",
    "points: 1\n",
    "-->"
   ]
  },
  {
   "cell_type": "code",
   "execution_count": 43,
   "metadata": {
    "ExecuteTime": {
     "end_time": "2019-01-18T23:27:54.368504Z",
     "start_time": "2019-01-18T23:27:54.331370Z"
    }
   },
   "outputs": [
    {
     "name": "stdout",
     "output_type": "stream",
     "text": [
      "[0.95071431 0.86617615 0.96990985 0.94888554 0.96563203 0.9093204\n",
      " 0.96958463 0.93949894 0.89482735 0.92187424]\n"
     ]
    }
   ],
   "source": [
    "np.random.seed(42)\n",
    "random_arr = np.random.rand(60)\n",
    "#print(2*random_arr**4)\n",
    "valid_values = random_arr[2*random_arr**4>1]\n",
    "print(valid_values)"
   ]
  },
  {
   "cell_type": "markdown",
   "metadata": {},
   "source": [
    "---\n",
    "## Part 3: Plotting\n",
    "Here we explore plotting using `matplotlib` and `numpy`."
   ]
  },
  {
   "cell_type": "markdown",
   "metadata": {
    "deletable": false,
    "editable": false
   },
   "source": [
    "### Question 3 ###\n",
    "\n",
    "\n",
    "Consider the function $f(x) = x^2$ for $-\\infty < x < \\infty$.\n",
    "\n",
    "#### Question 3a ####\n",
    "Find the equation of the tangent line to $f$ at $x = 0$.\n",
    "\n",
    "Use LaTeX to type your solution, such that it looks like the serif font used to display the math expressions in the sentences above.\n",
    "\n",
    "**HINT**: Double-click this cell to see the raw Markdown syntax.\n"
   ]
  },
  {
   "cell_type": "markdown",
   "metadata": {},
   "source": [
    "$f(x) = 0$ for $-\\infty < x < \\infty$."
   ]
  },
  {
   "cell_type": "markdown",
   "metadata": {
    "deletable": false,
    "editable": false
   },
   "source": [
    "#### Question 3b ####\n",
    "Find the equation of the tangent line to $f$ at $x = 8$. Please use LaTeX to type your solution.\n",
    "\n",
    "<!--\n",
    "BEGIN QUESTION\n",
    "name: q3b\n",
    "-->"
   ]
  },
  {
   "cell_type": "markdown",
   "metadata": {},
   "source": [
    "$f(x) = 16x-64$ for $-\\infty < x < \\infty$."
   ]
  },
  {
   "cell_type": "markdown",
   "metadata": {
    "deletable": false,
    "editable": false
   },
   "source": [
    "#### Question 3c #### \n",
    "\n",
    "Write code to plot the function $f$, the tangent line at $x=8$, and the tangent line at $x=0$. \n",
    "\n",
    "Set the range of the x-axis to (-15, 15) and the range of the y-axis to (-100, 300) and the figure size to (4,4).\n",
    "\n",
    "Your resulting plot should look like this:\n",
    "\n",
    "<img src=\"derivative.png\" align=\"center\"/>\n",
    "\n",
    "You should use the `plt.plot` function to plot lines. You may find the following functions useful:\n",
    "\n",
    "- [`plt.plot(..)`](https://matplotlib.org/api/_as_gen/matplotlib.pyplot.plot.html)\n",
    "- [`plt.figure(figsize=..)`](https://stackoverflow.com/questions/332289/how-do-you-change-the-size-of-figures-drawn-with-matplotlib)\n",
    "- [`plt.ylim(..)`](https://matplotlib.org/api/_as_gen/matplotlib.pyplot.ylim.html)\n",
    "- [`plt.axhline(..)`](https://matplotlib.org/api/_as_gen/matplotlib.pyplot.hlines.html)\n",
    "\n",
    "<!--\n",
    "BEGIN QUESTION\n",
    "name: q3c\n",
    "-->"
   ]
  },
  {
   "cell_type": "code",
   "execution_count": 42,
   "metadata": {},
   "outputs": [
    {
     "data": {
      "image/png": "[encoded data removed]",
      "text/plain": [
       "<Figure size 288x288 with 1 Axes>"
      ]
     },
     "metadata": {
      "needs_background": "light"
     },
     "output_type": "display_data"
    }
   ],
   "source": [
    "def f(x):\n",
    "    return x**2\n",
    "    \n",
    "def df(x):\n",
    "    return 2*x\n",
    "\n",
    "def plot(f, df): \n",
    "    plt.figure(figsize=(4,4))\n",
    "    plt.ylim(-100,300)\n",
    "    x = np.arange(-15,15,0.2)\n",
    "    plt.plot(x,f(x))\n",
    "    plt.axhline(0,color='red')\n",
    "    plt.plot(x,df(8)*x+f(8)-8*df(8),color='gold')\n",
    "    \n",
    "\n",
    "plot(f, df)"
   ]
  },
  {
   "cell_type": "markdown",
   "metadata": {
    "deletable": false,
    "editable": false
   },
   "source": [
    "### Question 4 ##\n",
    "\n",
    "Data science is a rapidly expanding field and no degree program can hope to teach you everything that will be helpful to you as a data scientist. So it's important that you become familiar with looking up documentation and learning how to read it. \n",
    "\n",
    "Below is a section of code that plots a three-dimensional \"wireframe\" plot. You'll see what that means when you draw it. Replace each `# Your answer here` with a description of what the line above does, what the arguments being passed in are, and how the arguments are used in the function. For example,\n",
    "\n",
    "```\n",
    "np.arange(2, 5, 0.2)\n",
    "# This returns an array of numbers from 2 to 5 with an interval size of 0.2\n",
    "```\n",
    "\n",
    "**Hint:** The `Shift` + `Tab` tip from earlier in the notebook may help here. Remember that objects must be defined in order for the documentation shortcut to work; for example, all of the documentation will show for method calls from `np` since we've already executed `import numpy as np`. However, since `z` is not yet defined in the kernel, `z.reshape(x.shape)` will not show documentation until you run the line `z = np.cos(squared)`.\n",
    "\n",
    "<!--\n",
    "BEGIN QUESTION\n",
    "name: q4\n",
    "-->"
   ]
  },
  {
   "cell_type": "code",
   "execution_count": 37,
   "metadata": {},
   "outputs": [
    {
     "data": {
      "image/png": "[encoded data removed]",
      "text/plain": [
       "<Figure size 432x432 with 1 Axes>"
      ]
     },
     "metadata": {
      "needs_background": "light"
     },
     "output_type": "display_data"
    }
   ],
   "source": [
    "from mpl_toolkits.mplot3d import axes3d\n",
    "\n",
    "u = np.linspace(1.5 * np.pi, -1.5 * np.pi, 100)\n",
    "# Your answer here\n",
    "[x, y] = np.meshgrid(u, u)\n",
    "# Your answer here\n",
    "squared = np.sqrt(x.flatten() ** 2 + y.flatten() ** 2)\n",
    "z = np.cos(squared)\n",
    "# Your answer here\n",
    "z = z.reshape(x.shape)\n",
    "# Your answer here\n",
    "\n",
    "fig = plt.figure(figsize = (6, 6))\n",
    "ax = fig.add_subplot(111, projection = '3d')\n",
    "# Your answer here\n",
    "ax.plot_wireframe(x, y, z, rstride = 5, cstride = 5, lw = 2)\n",
    "# Your answer here\n",
    "ax.view_init(elev = 60, azim = 25)\n",
    "# Your answer here\n",
    "plt.savefig(\"figure1.png\")\n",
    "# Your answer here"
   ]
  },
  {
   "cell_type": "code",
   "execution_count": null,
   "metadata": {},
   "outputs": [],
   "source": []
  }
 ],
 "metadata": {
  "celltoolbar": "编辑元数据",
  "history": [
   {
    "code": "help(print)",
    "id": "21c6b7fb3065458f8591a0467aa81a56",
    "idx": 6,
    "time": "2021-01-17T17:53:03.207Z",
    "type": "execution"
   },
   {
    "code": "print('Welcome to Data 100.')",
    "id": "71536419fa0644878bab6a05bfb46b48",
    "idx": 8,
    "time": "2021-01-17T17:53:03.212Z",
    "type": "execution"
   },
   {
    "code": "import pandas as pd\nimport numpy as np\nimport matplotlib.pyplot as plt\nplt.style.use('fivethirtyeight')\n%matplotlib inline",
    "id": "d31e1a7848594799bdbc9781d8514eca",
    "idx": 10,
    "time": "2021-01-17T17:53:03.215Z",
    "type": "execution"
   },
   {
    "code": "%%time\n\nlst = []\nfor i in range(100):\n    lst.append(i)",
    "id": "5131f80f4a5144648673527ae8000eca",
    "idx": 12,
    "time": "2021-01-17T17:53:03.218Z",
    "type": "execution"
   },
   {
    "code": "arr = np.array([1, 2, 3, 4, 5]) # SOLUTION",
    "id": "5d8c705fe5564bb08274a8222e279473",
    "idx": 18,
    "time": "2021-01-17T17:53:03.222Z",
    "type": "execution"
   },
   {
    "code": "# TEST\narr",
    "id": "870b019e59a944debaabf55ef641c9d9",
    "idx": 19,
    "time": "2021-01-17T17:53:03.224Z",
    "type": "execution"
   },
   {
    "code": "# TEST\ntype(arr) is np.ndarray",
    "id": "fe11a4121bc0456c9d4933a7119fa838",
    "idx": 20,
    "time": "2021-01-17T17:53:03.226Z",
    "type": "execution"
   },
   {
    "code": "arr[3]",
    "id": "76522a92888c403887a7be67aa1440a3",
    "idx": 22,
    "time": "2021-01-17T17:53:03.229Z",
    "type": "execution"
   },
   {
    "code": "arr[2:4]",
    "id": "ed9ab994b9e54a6791ed5cce6c1fbadf",
    "idx": 23,
    "time": "2021-01-17T17:53:03.231Z",
    "type": "execution"
   },
   {
    "code": "arr.shape",
    "id": "e4345b9e8f004df5875b1ba93c1a540a",
    "idx": 24,
    "time": "2021-01-17T17:53:03.233Z",
    "type": "execution"
   },
   {
    "code": "arr.dtype",
    "id": "43bf1ee7e1054f828a3ba8b3387d87b2",
    "idx": 25,
    "time": "2021-01-17T17:53:03.235Z",
    "type": "execution"
   },
   {
    "code": "# A regular Python list can store items of different data types\n[1, '3']",
    "id": "938b69f75016474f8f6697f55f78eb64",
    "idx": 27,
    "time": "2021-01-17T17:53:03.237Z",
    "type": "execution"
   },
   {
    "code": "# Arrays will convert everything to the same data type\nnp.array([1, '3'])",
    "id": "cc5505a0451e4d1da35a657e643ef2b0",
    "idx": 28,
    "time": "2021-01-17T17:53:03.240Z",
    "type": "execution"
   },
   {
    "code": "# Another example of array type conversion\nnp.array([5, 8.3])",
    "id": "fb021471af0642738134c0177757cec2",
    "idx": 29,
    "time": "2021-01-17T17:53:03.244Z",
    "type": "execution"
   },
   {
    "code": "# Python list addition will concatenate the two lists\n[1, 2, 3] + [4, 5, 6]",
    "id": "81e9992a430a49948144d551ff92fbed",
    "idx": 31,
    "time": "2021-01-17T17:53:03.246Z",
    "type": "execution"
   },
   {
    "code": "# NumPy array addition will add them element-wise\nnp.array([1, 2, 3]) + np.array([4, 5, 6])",
    "id": "8a7f9f456c014f2986f62d1107cc8f5d",
    "idx": 32,
    "time": "2021-01-17T17:53:03.248Z",
    "type": "execution"
   },
   {
    "code": "def summation(n):\n    \"\"\"Compute the summation i^3 + 3 * i^2 for 1 <= i <= n.\"\"\"\n    # BEGIN SOLUTION\n    if n < 1:\n        raise ValueError(\"n must be greater than or equal to 1\")\n    return sum((np.arange(1, n + 1) ** 3) + (3 * np.arange(1, n + 1) ** 2))\n    # END SOLUTION",
    "id": "173dcf4447e04bcc8ccb7e946ac015ad",
    "idx": 35,
    "time": "2021-01-17T17:53:03.252Z",
    "type": "execution"
   },
   {
    "code": "# TEST\nsummation(1)",
    "id": "0e5135e223c14eed82d1f6c94877ebc3",
    "idx": 36,
    "time": "2021-01-17T17:53:03.254Z",
    "type": "execution"
   },
   {
    "code": "# TEST\nsummation(2)",
    "id": "fc22eaabb2664b85878b9cada521c153",
    "idx": 37,
    "time": "2021-01-17T17:53:03.256Z",
    "type": "execution"
   },
   {
    "code": "# TEST\nsummation(100)",
    "id": "bbc73f423f38459d9601fb62ded404f6",
    "idx": 38,
    "time": "2021-01-17T17:53:03.258Z",
    "type": "execution"
   },
   {
    "code": "def elementwise_array_sum(list_1, list_2):\n    \"\"\"Compute x^2 + y^3 for each x, y in list_1, list_2. \n    \n    Assume list_1 and list_2 have the same length.\n    \n    Return a NumPy array.\n    \"\"\"\n    assert len(list_1) == len(list_2), \"both args must have the same number of elements\"\n    # BEGIN SOLUTION\n    # Solution 1\n    return np.square(list_1) + np.power(list_2, 3)\n    # Solution 2\n    return np.array(list_1) ** 2 + np.array(list_2) ** 3\n    # END SOLUTION",
    "id": "393599edb3f54b9a861baefb22a64ea0",
    "idx": 40,
    "time": "2021-01-17T17:53:03.265Z",
    "type": "execution"
   },
   {
    "code": "# TEST\nelementwise_array_sum([], [])",
    "id": "ba38bde9c06749d2a7e5f2191986a0df",
    "idx": 41,
    "time": "2021-01-17T17:53:03.267Z",
    "type": "execution"
   },
   {
    "code": "# TEST\nelementwise_array_sum([1], [1])",
    "id": "b4d0bf11de70475a8c8b6fda90e7fcab",
    "idx": 42,
    "time": "2021-01-17T17:53:03.269Z",
    "type": "execution"
   },
   {
    "code": "# TEST\nelementwise_array_sum([-1], [1])",
    "id": "e8f962319d834c2a8e101d566a4fe5bc",
    "idx": 43,
    "time": "2021-01-17T17:53:03.271Z",
    "type": "execution"
   },
   {
    "code": "# TEST\nelementwise_array_sum([1], [-1])",
    "id": "4c99d6088c8241c7bce131d46e7e3889",
    "idx": 44,
    "time": "2021-01-17T17:53:03.273Z",
    "type": "execution"
   },
   {
    "code": "# TEST\nelementwise_array_sum([1, 2, 3], [1, 2, 3])",
    "id": "829e1cf6d0104a90a2a3a583bf8fc899",
    "idx": 45,
    "time": "2021-01-17T17:53:03.274Z",
    "type": "execution"
   },
   {
    "code": "# TEST\nelementwise_array_sum([1, 5, 2], [3, 6, 6])",
    "id": "01f01274813a4ec59a7a0d04cc663f84",
    "idx": 46,
    "time": "2021-01-17T17:53:03.277Z",
    "type": "execution"
   },
   {
    "code": "# TEST\ntype(elementwise_array_sum([], [])) is np.ndarray",
    "id": "c35b73570a7e4cba89540dc791617642",
    "idx": 47,
    "time": "2021-01-17T17:53:03.279Z",
    "type": "execution"
   },
   {
    "code": "def elementwise_list_sum(list_1, list_2):\n    \"\"\"Compute x^2 + y^3 for each x, y in list_1, list_2. \n    \n    Assume list_1 and list_2 have the same length.\n    \"\"\"\n\n    return [x ** 2 + y ** 3 for x, y in zip(list_1, list_2)]",
    "id": "17b006abc8df460c98db7ca9c29e77b9",
    "idx": 49,
    "time": "2021-01-17T17:53:03.281Z",
    "type": "execution"
   },
   {
    "code": "sample_list_1 = list(range(10))\nsample_array_1 = np.arange(10)",
    "id": "5469540a13e14dab81d05dde08ade13b",
    "idx": 51,
    "time": "2021-01-17T17:53:03.283Z",
    "type": "execution"
   },
   {
    "code": "%%time\nelementwise_list_sum(sample_list_1, sample_list_1)",
    "id": "aac04bd4435145948982283317d32487",
    "idx": 52,
    "time": "2021-01-17T17:53:03.286Z",
    "type": "execution"
   },
   {
    "code": "%%time\nelementwise_array_sum(sample_array_1, sample_array_1)",
    "id": "6f3a213601e24fc088f8e74b8e7a610c",
    "idx": 53,
    "time": "2021-01-17T17:53:03.290Z",
    "type": "execution"
   },
   {
    "code": "sample_list_2 = list(range(100000))\nsample_array_2 = np.arange(100000)",
    "id": "c2f7d2cc24154dd48cfa3698ec5552bd",
    "idx": 55,
    "time": "2021-01-17T17:53:03.292Z",
    "type": "execution"
   },
   {
    "code": "%%time\nelementwise_list_sum(sample_list_2, sample_list_2)\n; # The semicolon hides the output",
    "id": "46c0b3d804194df09f9f24730365aa29",
    "idx": 56,
    "time": "2021-01-17T17:53:03.294Z",
    "type": "execution"
   },
   {
    "code": "%%time\nelementwise_array_sum(sample_array_2, sample_array_2)\n;",
    "id": "f9dc636981d64d3c90ad7924e0f248c9",
    "idx": 57,
    "time": "2021-01-17T17:53:03.296Z",
    "type": "execution"
   },
   {
    "code": "def mean(population):\n    \"\"\"\n    Returns the mean of population (mu)\n    \n    Keyword arguments:\n    population -- a numpy array of numbers\n    \"\"\"\n    # Calculate the mean of a population\n    return sum(population) / len(population) # SOLUTION\n\ndef variance(population):\n    \"\"\"\n    Returns the variance of population (sigma squared)\n    \n    Keyword arguments:\n    population -- a numpy array of numbers\n    \"\"\"\n    # Calculate the variance of a population\n    # BEGIN SOLUTION\n    m = mean(population)\n    return sum((population - m) ** 2) / len(population)\n    # END SOLUTION",
    "id": "7b192c8e91be4bddaab73f93398dc7c6",
    "idx": 60,
    "time": "2021-01-17T17:53:03.299Z",
    "type": "execution"
   },
   {
    "code": "# TEST\npopulation_0 = np.random.randn(100)\nnp.isclose(mean(population_0), np.mean(population_0), atol=1e-6)",
    "id": "d566605090dc424087eecfb22600b232",
    "idx": 61,
    "time": "2021-01-17T17:53:03.301Z",
    "type": "execution"
   },
   {
    "code": "# HIDDEN TEST\npopulation_1 = 3 * np.random.randn(100) + 5\nnp.isclose(mean(population_1), np.mean(population_1), atol=1e-6)",
    "id": "fa5bbfed1daf4287bc6d683f207aaaaa",
    "idx": 62,
    "time": "2021-01-17T17:53:03.303Z",
    "type": "execution"
   },
   {
    "code": "# TEST\npopulation_0 = np.random.randn(100)\nnp.isclose(variance(population_0), np.var(population_0), atol=1e-6)",
    "id": "43dc728e51d34d448cbcc0b07ee4bf54",
    "idx": 63,
    "time": "2021-01-17T17:53:03.309Z",
    "type": "execution"
   },
   {
    "code": "# HIDDEN TEST\npopulation_1 = 3 * np.random.randn(100) + 5\nnp.isclose(variance(population_1), np.var(population_1), atol=1e-6)",
    "id": "59f96df1e503472188668ae33ce05fa8",
    "idx": 64,
    "time": "2021-01-17T17:53:03.313Z",
    "type": "execution"
   },
   {
    "code": "np.random.seed(42)\nrandom_arr = np.random.rand(60)\nvalid_values = random_arr[(2 * random_arr ** 4 > 1)] # SOLUTION",
    "id": "7f8d35d2151c40148b516ab7678d9c1b",
    "idx": 66,
    "time": "2021-01-17T17:53:03.315Z",
    "type": "execution"
   },
   {
    "code": "# TEST\nvalid_values",
    "id": "513e64a52091401582941a713823d603",
    "idx": 67,
    "time": "2021-01-17T17:53:03.317Z",
    "type": "execution"
   },
   {
    "code": "# TEST\nlen(valid_values) == 10",
    "id": "eb4edb69609a4900960c4687bf5e4056",
    "idx": 68,
    "time": "2021-01-17T17:53:03.319Z",
    "type": "execution"
   },
   {
    "code": "# TEST\nnp.allclose(valid_values, [0.95071431, 0.86617615, 0.96990985, 0.94888554, 0.96563203,\n       0.9093204 , 0.96958463, 0.93949894, 0.89482735, 0.92187424])",
    "id": "39e0aac3d33e422a969cd15ff428829f",
    "idx": 69,
    "time": "2021-01-17T17:53:03.322Z",
    "type": "execution"
   },
   {
    "code": "def f(x):\n    return x ** 2 # SOLUTION\n    \ndef df(x):\n    return 2 * x # SOLUTION\n\ndef plot(f, df):              \n    # BEGIN SOLUTION\n    x = np.linspace(-15, 15, 100)\n\n    plt.figure(figsize = (4, 4))\n    plt.plot(x, f(x))\n    plt.plot(x, np.zeros(x.shape[0]))\n    plt.plot(x, df(8) * (x - 8) + f(8))\n    \n    plt.xlim(-15, 15)\n    plt.ylim(-100, 300)\n    # END SOLUTION\n\nplot(f, df)",
    "id": "094decd551aa44fb8a03a3770fe72f6f",
    "idx": 76,
    "time": "2021-01-17T17:53:03.326Z",
    "type": "execution"
   },
   {
    "code": "from mpl_toolkits.mplot3d import axes3d\n\nu = np.linspace(1.5 * np.pi, -1.5 * np.pi, 100)\n# Your answer here\n[x, y] = np.meshgrid(u, u)\n# Your answer here\nsquared = np.sqrt(x.flatten() ** 2 + y.flatten() ** 2)\nz = np.cos(squared)\n# Your answer here\nz = z.reshape(x.shape)\n# Your answer here\n\nfig = plt.figure(figsize = (6, 6))\nax = fig.add_subplot(111, projection = '3d')\n# Your answer here\nax.plot_wireframe(x, y, z, rstride = 5, cstride = 5, lw = 2)\n# Your answer here\nax.view_init(elev = 60, azim = 25)\n# Your answer here\nplt.savefig(\"figure1.png\")\n# Your answer here",
    "id": "9a1da5416f9643bd8e0522e43244bdec",
    "idx": 78,
    "time": "2021-01-17T17:53:03.328Z",
    "type": "execution"
   },
   {
    "id": "21c6b7fb3065458f8591a0467aa81a56",
    "time": "2021-01-17T17:53:03.472Z",
    "type": "completion"
   },
   {
    "id": "71536419fa0644878bab6a05bfb46b48",
    "time": "2021-01-17T17:53:03.474Z",
    "type": "completion"
   },
   {
    "id": "d31e1a7848594799bdbc9781d8514eca",
    "time": "2021-01-17T17:53:06.583Z",
    "type": "completion"
   },
   {
    "id": "5131f80f4a5144648673527ae8000eca",
    "time": "2021-01-17T17:53:06.589Z",
    "type": "completion"
   },
   {
    "id": "5d8c705fe5564bb08274a8222e279473",
    "time": "2021-01-17T17:53:06.658Z",
    "type": "completion"
   },
   {
    "id": "870b019e59a944debaabf55ef641c9d9",
    "time": "2021-01-17T17:53:06.663Z",
    "type": "completion"
   },
   {
    "id": "fe11a4121bc0456c9d4933a7119fa838",
    "time": "2021-01-17T17:53:06.665Z",
    "type": "completion"
   },
   {
    "id": "76522a92888c403887a7be67aa1440a3",
    "time": "2021-01-17T17:53:06.668Z",
    "type": "completion"
   },
   {
    "id": "ed9ab994b9e54a6791ed5cce6c1fbadf",
    "time": "2021-01-17T17:53:06.670Z",
    "type": "completion"
   },
   {
    "id": "e4345b9e8f004df5875b1ba93c1a540a",
    "time": "2021-01-17T17:53:06.672Z",
    "type": "completion"
   },
   {
    "id": "43bf1ee7e1054f828a3ba8b3387d87b2",
    "time": "2021-01-17T17:53:06.673Z",
    "type": "completion"
   },
   {
    "id": "938b69f75016474f8f6697f55f78eb64",
    "time": "2021-01-17T17:53:06.702Z",
    "type": "completion"
   },
   {
    "id": "cc5505a0451e4d1da35a657e643ef2b0",
    "time": "2021-01-17T17:53:06.725Z",
    "type": "completion"
   },
   {
    "id": "fb021471af0642738134c0177757cec2",
    "time": "2021-01-17T17:53:06.757Z",
    "type": "completion"
   },
   {
    "id": "81e9992a430a49948144d551ff92fbed",
    "time": "2021-01-17T17:53:06.766Z",
    "type": "completion"
   },
   {
    "id": "8a7f9f456c014f2986f62d1107cc8f5d",
    "time": "2021-01-17T17:53:06.769Z",
    "type": "completion"
   },
   {
    "id": "173dcf4447e04bcc8ccb7e946ac015ad",
    "time": "2021-01-17T17:53:06.772Z",
    "type": "completion"
   },
   {
    "id": "0e5135e223c14eed82d1f6c94877ebc3",
    "time": "2021-01-17T17:53:06.773Z",
    "type": "completion"
   },
   {
    "id": "fc22eaabb2664b85878b9cada521c153",
    "time": "2021-01-17T17:53:06.775Z",
    "type": "completion"
   },
   {
    "id": "bbc73f423f38459d9601fb62ded404f6",
    "time": "2021-01-17T17:53:06.777Z",
    "type": "completion"
   },
   {
    "id": "393599edb3f54b9a861baefb22a64ea0",
    "time": "2021-01-17T17:53:06.779Z",
    "type": "completion"
   },
   {
    "id": "ba38bde9c06749d2a7e5f2191986a0df",
    "time": "2021-01-17T17:53:06.780Z",
    "type": "completion"
   },
   {
    "id": "b4d0bf11de70475a8c8b6fda90e7fcab",
    "time": "2021-01-17T17:53:06.782Z",
    "type": "completion"
   },
   {
    "id": "e8f962319d834c2a8e101d566a4fe5bc",
    "time": "2021-01-17T17:53:06.817Z",
    "type": "completion"
   },
   {
    "id": "4c99d6088c8241c7bce131d46e7e3889",
    "time": "2021-01-17T17:53:06.820Z",
    "type": "completion"
   },
   {
    "id": "829e1cf6d0104a90a2a3a583bf8fc899",
    "time": "2021-01-17T17:53:06.822Z",
    "type": "completion"
   },
   {
    "id": "01f01274813a4ec59a7a0d04cc663f84",
    "time": "2021-01-17T17:53:06.823Z",
    "type": "completion"
   },
   {
    "id": "c35b73570a7e4cba89540dc791617642",
    "time": "2021-01-17T17:53:06.825Z",
    "type": "completion"
   },
   {
    "id": "17b006abc8df460c98db7ca9c29e77b9",
    "time": "2021-01-17T17:53:06.848Z",
    "type": "completion"
   },
   {
    "id": "5469540a13e14dab81d05dde08ade13b",
    "time": "2021-01-17T17:53:06.851Z",
    "type": "completion"
   },
   {
    "id": "aac04bd4435145948982283317d32487",
    "time": "2021-01-17T17:53:06.855Z",
    "type": "completion"
   },
   {
    "id": "6f3a213601e24fc088f8e74b8e7a610c",
    "time": "2021-01-17T17:53:06.857Z",
    "type": "completion"
   },
   {
    "id": "c2f7d2cc24154dd48cfa3698ec5552bd",
    "time": "2021-01-17T17:53:06.863Z",
    "type": "completion"
   },
   {
    "id": "46c0b3d804194df09f9f24730365aa29",
    "time": "2021-01-17T17:53:06.897Z",
    "type": "completion"
   },
   {
    "id": "f9dc636981d64d3c90ad7924e0f248c9",
    "time": "2021-01-17T17:53:06.907Z",
    "type": "completion"
   },
   {
    "id": "7b192c8e91be4bddaab73f93398dc7c6",
    "time": "2021-01-17T17:53:06.931Z",
    "type": "completion"
   },
   {
    "id": "d566605090dc424087eecfb22600b232",
    "time": "2021-01-17T17:53:06.933Z",
    "type": "completion"
   },
   {
    "id": "fa5bbfed1daf4287bc6d683f207aaaaa",
    "time": "2021-01-17T17:53:06.936Z",
    "type": "completion"
   },
   {
    "id": "43dc728e51d34d448cbcc0b07ee4bf54",
    "time": "2021-01-17T17:53:06.965Z",
    "type": "completion"
   },
   {
    "id": "59f96df1e503472188668ae33ce05fa8",
    "time": "2021-01-17T17:53:06.967Z",
    "type": "completion"
   },
   {
    "id": "7f8d35d2151c40148b516ab7678d9c1b",
    "time": "2021-01-17T17:53:06.991Z",
    "type": "completion"
   },
   {
    "id": "513e64a52091401582941a713823d603",
    "time": "2021-01-17T17:53:06.993Z",
    "type": "completion"
   },
   {
    "id": "eb4edb69609a4900960c4687bf5e4056",
    "time": "2021-01-17T17:53:06.997Z",
    "type": "completion"
   },
   {
    "id": "39e0aac3d33e422a969cd15ff428829f",
    "time": "2021-01-17T17:53:07.000Z",
    "type": "completion"
   },
   {
    "id": "094decd551aa44fb8a03a3770fe72f6f",
    "time": "2021-01-17T17:53:07.121Z",
    "type": "completion"
   },
   {
    "id": "9a1da5416f9643bd8e0522e43244bdec",
    "time": "2021-01-17T17:53:07.548Z",
    "type": "completion"
   },
   {
    "code": "help(print)",
    "id": "21c6b7fb3065458f8591a0467aa81a56",
    "idx": 6,
    "time": "2021-01-17T17:57:50.619Z",
    "type": "execution"
   },
   {
    "code": "print('Welcome to Data 100.')",
    "id": "71536419fa0644878bab6a05bfb46b48",
    "idx": 8,
    "time": "2021-01-17T17:57:50.628Z",
    "type": "execution"
   },
   {
    "code": "import pandas as pd\nimport numpy as np\nimport matplotlib.pyplot as plt\nplt.style.use('fivethirtyeight')\n%matplotlib inline",
    "id": "d31e1a7848594799bdbc9781d8514eca",
    "idx": 10,
    "time": "2021-01-17T17:57:50.630Z",
    "type": "execution"
   },
   {
    "code": "%%time\n\nlst = []\nfor i in range(100):\n    lst.append(i)",
    "id": "5131f80f4a5144648673527ae8000eca",
    "idx": 12,
    "time": "2021-01-17T17:57:50.633Z",
    "type": "execution"
   },
   {
    "code": "arr = np.array([1, 2, 3, 4, 5]) # SOLUTION",
    "id": "5d8c705fe5564bb08274a8222e279473",
    "idx": 18,
    "time": "2021-01-17T17:57:50.638Z",
    "type": "execution"
   },
   {
    "code": "# TEST\narr",
    "id": "870b019e59a944debaabf55ef641c9d9",
    "idx": 19,
    "time": "2021-01-17T17:57:50.640Z",
    "type": "execution"
   },
   {
    "code": "# TEST\ntype(arr) is np.ndarray",
    "id": "fe11a4121bc0456c9d4933a7119fa838",
    "idx": 20,
    "time": "2021-01-17T17:57:50.643Z",
    "type": "execution"
   },
   {
    "code": "arr[3]",
    "id": "76522a92888c403887a7be67aa1440a3",
    "idx": 22,
    "time": "2021-01-17T17:57:50.646Z",
    "type": "execution"
   },
   {
    "code": "arr[2:4]",
    "id": "ed9ab994b9e54a6791ed5cce6c1fbadf",
    "idx": 23,
    "time": "2021-01-17T17:57:50.648Z",
    "type": "execution"
   },
   {
    "code": "arr.shape",
    "id": "e4345b9e8f004df5875b1ba93c1a540a",
    "idx": 24,
    "time": "2021-01-17T17:57:50.653Z",
    "type": "execution"
   },
   {
    "code": "arr.dtype",
    "id": "43bf1ee7e1054f828a3ba8b3387d87b2",
    "idx": 25,
    "time": "2021-01-17T17:57:50.655Z",
    "type": "execution"
   },
   {
    "code": "# A regular Python list can store items of different data types\n[1, '3']",
    "id": "938b69f75016474f8f6697f55f78eb64",
    "idx": 27,
    "time": "2021-01-17T17:57:50.658Z",
    "type": "execution"
   },
   {
    "code": "# Arrays will convert everything to the same data type\nnp.array([1, '3'])",
    "id": "cc5505a0451e4d1da35a657e643ef2b0",
    "idx": 28,
    "time": "2021-01-17T17:57:50.661Z",
    "type": "execution"
   },
   {
    "code": "# Another example of array type conversion\nnp.array([5, 8.3])",
    "id": "fb021471af0642738134c0177757cec2",
    "idx": 29,
    "time": "2021-01-17T17:57:50.663Z",
    "type": "execution"
   },
   {
    "code": "# Python list addition will concatenate the two lists\n[1, 2, 3] + [4, 5, 6]",
    "id": "81e9992a430a49948144d551ff92fbed",
    "idx": 31,
    "time": "2021-01-17T17:57:50.666Z",
    "type": "execution"
   },
   {
    "code": "# NumPy array addition will add them element-wise\nnp.array([1, 2, 3]) + np.array([4, 5, 6])",
    "id": "8a7f9f456c014f2986f62d1107cc8f5d",
    "idx": 32,
    "time": "2021-01-17T17:57:50.668Z",
    "type": "execution"
   },
   {
    "code": "def summation(n):\n    \"\"\"Compute the summation i^3 + 3 * i^2 for 1 <= i <= n.\"\"\"\n    # BEGIN SOLUTION\n    if n < 1:\n        raise ValueError(\"n must be greater than or equal to 1\")\n    return sum((np.arange(1, n + 1) ** 3) + (3 * np.arange(1, n + 1) ** 2))\n    # END SOLUTION",
    "id": "173dcf4447e04bcc8ccb7e946ac015ad",
    "idx": 35,
    "time": "2021-01-17T17:57:50.671Z",
    "type": "execution"
   },
   {
    "code": "# TEST\nsummation(1)",
    "id": "0e5135e223c14eed82d1f6c94877ebc3",
    "idx": 36,
    "time": "2021-01-17T17:57:50.672Z",
    "type": "execution"
   },
   {
    "code": "# TEST\nsummation(2)",
    "id": "fc22eaabb2664b85878b9cada521c153",
    "idx": 37,
    "time": "2021-01-17T17:57:50.674Z",
    "type": "execution"
   },
   {
    "code": "# TEST\nsummation(100)",
    "id": "bbc73f423f38459d9601fb62ded404f6",
    "idx": 38,
    "time": "2021-01-17T17:57:50.676Z",
    "type": "execution"
   },
   {
    "code": "def elementwise_array_sum(list_1, list_2):\n    \"\"\"Compute x^2 + y^3 for each x, y in list_1, list_2. \n    \n    Assume list_1 and list_2 have the same length.\n    \n    Return a NumPy array.\n    \"\"\"\n    assert len(list_1) == len(list_2), \"both args must have the same number of elements\"\n    # BEGIN SOLUTION\n    # Solution 1\n    return np.square(list_1) + np.power(list_2, 3)\n    # Solution 2\n    return np.array(list_1) ** 2 + np.array(list_2) ** 3\n    # END SOLUTION",
    "id": "393599edb3f54b9a861baefb22a64ea0",
    "idx": 40,
    "time": "2021-01-17T17:57:50.678Z",
    "type": "execution"
   },
   {
    "code": "# TEST\nelementwise_array_sum([], [])",
    "id": "ba38bde9c06749d2a7e5f2191986a0df",
    "idx": 41,
    "time": "2021-01-17T17:57:50.680Z",
    "type": "execution"
   },
   {
    "code": "# TEST\nelementwise_array_sum([1], [1])",
    "id": "b4d0bf11de70475a8c8b6fda90e7fcab",
    "idx": 42,
    "time": "2021-01-17T17:57:50.682Z",
    "type": "execution"
   },
   {
    "code": "# TEST\nelementwise_array_sum([-1], [1])",
    "id": "e8f962319d834c2a8e101d566a4fe5bc",
    "idx": 43,
    "time": "2021-01-17T17:57:50.684Z",
    "type": "execution"
   },
   {
    "code": "# TEST\nelementwise_array_sum([1], [-1])",
    "id": "4c99d6088c8241c7bce131d46e7e3889",
    "idx": 44,
    "time": "2021-01-17T17:57:50.687Z",
    "type": "execution"
   },
   {
    "code": "# TEST\nelementwise_array_sum([1, 2, 3], [1, 2, 3])",
    "id": "829e1cf6d0104a90a2a3a583bf8fc899",
    "idx": 45,
    "time": "2021-01-17T17:57:50.690Z",
    "type": "execution"
   },
   {
    "code": "# TEST\nelementwise_array_sum([1, 5, 2], [3, 6, 6])",
    "id": "01f01274813a4ec59a7a0d04cc663f84",
    "idx": 46,
    "time": "2021-01-17T17:57:50.694Z",
    "type": "execution"
   },
   {
    "code": "# TEST\ntype(elementwise_array_sum([], [])) is np.ndarray",
    "id": "c35b73570a7e4cba89540dc791617642",
    "idx": 47,
    "time": "2021-01-17T17:57:50.695Z",
    "type": "execution"
   },
   {
    "code": "def elementwise_list_sum(list_1, list_2):\n    \"\"\"Compute x^2 + y^3 for each x, y in list_1, list_2. \n    \n    Assume list_1 and list_2 have the same length.\n    \"\"\"\n\n    return [x ** 2 + y ** 3 for x, y in zip(list_1, list_2)]",
    "id": "17b006abc8df460c98db7ca9c29e77b9",
    "idx": 49,
    "time": "2021-01-17T17:57:50.698Z",
    "type": "execution"
   },
   {
    "code": "sample_list_1 = list(range(10))\nsample_array_1 = np.arange(10)",
    "id": "5469540a13e14dab81d05dde08ade13b",
    "idx": 51,
    "time": "2021-01-17T17:57:50.704Z",
    "type": "execution"
   },
   {
    "code": "%%time\nelementwise_list_sum(sample_list_1, sample_list_1)",
    "id": "aac04bd4435145948982283317d32487",
    "idx": 52,
    "time": "2021-01-17T17:57:50.707Z",
    "type": "execution"
   },
   {
    "code": "%%time\nelementwise_array_sum(sample_array_1, sample_array_1)",
    "id": "6f3a213601e24fc088f8e74b8e7a610c",
    "idx": 53,
    "time": "2021-01-17T17:57:50.710Z",
    "type": "execution"
   },
   {
    "code": "sample_list_2 = list(range(100000))\nsample_array_2 = np.arange(100000)",
    "id": "c2f7d2cc24154dd48cfa3698ec5552bd",
    "idx": 55,
    "time": "2021-01-17T17:57:50.713Z",
    "type": "execution"
   },
   {
    "code": "%%time\nelementwise_list_sum(sample_list_2, sample_list_2)\n; # The semicolon hides the output",
    "id": "46c0b3d804194df09f9f24730365aa29",
    "idx": 56,
    "time": "2021-01-17T17:57:50.717Z",
    "type": "execution"
   },
   {
    "code": "%%time\nelementwise_array_sum(sample_array_2, sample_array_2)\n;",
    "id": "f9dc636981d64d3c90ad7924e0f248c9",
    "idx": 57,
    "time": "2021-01-17T17:57:50.721Z",
    "type": "execution"
   },
   {
    "code": "def mean(population):\n    \"\"\"\n    Returns the mean of population (mu)\n    \n    Keyword arguments:\n    population -- a numpy array of numbers\n    \"\"\"\n    # Calculate the mean of a population\n    return sum(population) / len(population) # SOLUTION\n\ndef variance(population):\n    \"\"\"\n    Returns the variance of population (sigma squared)\n    \n    Keyword arguments:\n    population -- a numpy array of numbers\n    \"\"\"\n    # Calculate the variance of a population\n    # BEGIN SOLUTION\n    m = mean(population)\n    return sum((population - m) ** 2) / len(population)\n    # END SOLUTION",
    "id": "7b192c8e91be4bddaab73f93398dc7c6",
    "idx": 60,
    "time": "2021-01-17T17:57:50.725Z",
    "type": "execution"
   },
   {
    "code": "# TEST\npopulation_0 = np.random.randn(100)\nnp.isclose(mean(population_0), np.mean(population_0), atol=1e-6)",
    "id": "d566605090dc424087eecfb22600b232",
    "idx": 61,
    "time": "2021-01-17T17:57:50.727Z",
    "type": "execution"
   },
   {
    "code": "# HIDDEN TEST\npopulation_1 = 3 * np.random.randn(100) + 5\nnp.isclose(mean(population_1), np.mean(population_1), atol=1e-6)",
    "id": "fa5bbfed1daf4287bc6d683f207aaaaa",
    "idx": 62,
    "time": "2021-01-17T17:57:50.729Z",
    "type": "execution"
   },
   {
    "code": "# TEST\npopulation_0 = np.random.randn(100)\nnp.isclose(variance(population_0), np.var(population_0), atol=1e-6)",
    "id": "43dc728e51d34d448cbcc0b07ee4bf54",
    "idx": 63,
    "time": "2021-01-17T17:57:50.731Z",
    "type": "execution"
   },
   {
    "code": "# HIDDEN TEST\npopulation_1 = 3 * np.random.randn(100) + 5\nnp.isclose(variance(population_1), np.var(population_1), atol=1e-6)",
    "id": "59f96df1e503472188668ae33ce05fa8",
    "idx": 64,
    "time": "2021-01-17T17:57:50.733Z",
    "type": "execution"
   },
   {
    "code": "np.random.seed(42)\nrandom_arr = np.random.rand(60)\nvalid_values = random_arr[(2 * random_arr ** 4 > 1)] # SOLUTION",
    "id": "7f8d35d2151c40148b516ab7678d9c1b",
    "idx": 66,
    "time": "2021-01-17T17:57:50.735Z",
    "type": "execution"
   },
   {
    "code": "# TEST\nvalid_values",
    "id": "513e64a52091401582941a713823d603",
    "idx": 67,
    "time": "2021-01-17T17:57:50.737Z",
    "type": "execution"
   },
   {
    "code": "# TEST\nlen(valid_values) == 10",
    "id": "eb4edb69609a4900960c4687bf5e4056",
    "idx": 68,
    "time": "2021-01-17T17:57:50.739Z",
    "type": "execution"
   },
   {
    "code": "# TEST\nnp.allclose(valid_values, [0.95071431, 0.86617615, 0.96990985, 0.94888554, 0.96563203,\n       0.9093204 , 0.96958463, 0.93949894, 0.89482735, 0.92187424])",
    "id": "39e0aac3d33e422a969cd15ff428829f",
    "idx": 69,
    "time": "2021-01-17T17:57:50.740Z",
    "type": "execution"
   },
   {
    "code": "def f(x):\n    return x ** 2 # SOLUTION\n    \ndef df(x):\n    return 2 * x # SOLUTION\n\ndef plot(f, df):              \n    # BEGIN SOLUTION\n    x = np.linspace(-15, 15, 100)\n\n    plt.figure(figsize = (4, 4))\n    plt.plot(x, f(x))\n    plt.plot(x, np.zeros(x.shape[0]))\n    plt.plot(x, df(8) * (x - 8) + f(8))\n    \n    plt.xlim(-15, 15)\n    plt.ylim(-100, 300)\n    # END SOLUTION\n\nplot(f, df)",
    "id": "094decd551aa44fb8a03a3770fe72f6f",
    "idx": 76,
    "time": "2021-01-17T17:57:50.744Z",
    "type": "execution"
   },
   {
    "code": "from mpl_toolkits.mplot3d import axes3d\n\nu = np.linspace(1.5 * np.pi, -1.5 * np.pi, 100)\n# Your answer here\n[x, y] = np.meshgrid(u, u)\n# Your answer here\nsquared = np.sqrt(x.flatten() ** 2 + y.flatten() ** 2)\nz = np.cos(squared)\n# Your answer here\nz = z.reshape(x.shape)\n# Your answer here\n\nfig = plt.figure(figsize = (6, 6))\nax = fig.add_subplot(111, projection = '3d')\n# Your answer here\nax.plot_wireframe(x, y, z, rstride = 5, cstride = 5, lw = 2)\n# Your answer here\nax.view_init(elev = 60, azim = 25)\n# Your answer here\nplt.savefig(\"figure1.png\")\n# Your answer here",
    "id": "9a1da5416f9643bd8e0522e43244bdec",
    "idx": 78,
    "time": "2021-01-17T17:57:50.746Z",
    "type": "execution"
   },
   {
    "id": "21c6b7fb3065458f8591a0467aa81a56",
    "time": "2021-01-17T17:57:50.780Z",
    "type": "completion"
   },
   {
    "id": "71536419fa0644878bab6a05bfb46b48",
    "time": "2021-01-17T17:57:50.783Z",
    "type": "completion"
   },
   {
    "id": "d31e1a7848594799bdbc9781d8514eca",
    "time": "2021-01-17T17:57:51.323Z",
    "type": "completion"
   },
   {
    "id": "5131f80f4a5144648673527ae8000eca",
    "time": "2021-01-17T17:57:51.328Z",
    "type": "completion"
   },
   {
    "id": "5d8c705fe5564bb08274a8222e279473",
    "time": "2021-01-17T17:57:51.334Z",
    "type": "completion"
   },
   {
    "id": "870b019e59a944debaabf55ef641c9d9",
    "time": "2021-01-17T17:57:51.395Z",
    "type": "completion"
   },
   {
    "id": "fe11a4121bc0456c9d4933a7119fa838",
    "time": "2021-01-17T17:57:51.404Z",
    "type": "completion"
   },
   {
    "id": "76522a92888c403887a7be67aa1440a3",
    "time": "2021-01-17T17:57:51.406Z",
    "type": "completion"
   },
   {
    "id": "ed9ab994b9e54a6791ed5cce6c1fbadf",
    "time": "2021-01-17T17:57:51.409Z",
    "type": "completion"
   },
   {
    "id": "e4345b9e8f004df5875b1ba93c1a540a",
    "time": "2021-01-17T17:57:51.412Z",
    "type": "completion"
   },
   {
    "id": "43bf1ee7e1054f828a3ba8b3387d87b2",
    "time": "2021-01-17T17:57:51.414Z",
    "type": "completion"
   },
   {
    "id": "938b69f75016474f8f6697f55f78eb64",
    "time": "2021-01-17T17:57:51.416Z",
    "type": "completion"
   },
   {
    "id": "cc5505a0451e4d1da35a657e643ef2b0",
    "time": "2021-01-17T17:57:51.469Z",
    "type": "completion"
   },
   {
    "id": "fb021471af0642738134c0177757cec2",
    "time": "2021-01-17T17:57:51.504Z",
    "type": "completion"
   },
   {
    "id": "81e9992a430a49948144d551ff92fbed",
    "time": "2021-01-17T17:57:51.511Z",
    "type": "completion"
   },
   {
    "id": "8a7f9f456c014f2986f62d1107cc8f5d",
    "time": "2021-01-17T17:57:51.518Z",
    "type": "completion"
   },
   {
    "id": "173dcf4447e04bcc8ccb7e946ac015ad",
    "time": "2021-01-17T17:57:51.522Z",
    "type": "completion"
   },
   {
    "id": "0e5135e223c14eed82d1f6c94877ebc3",
    "time": "2021-01-17T17:57:51.527Z",
    "type": "completion"
   },
   {
    "id": "fc22eaabb2664b85878b9cada521c153",
    "time": "2021-01-17T17:57:51.545Z",
    "type": "completion"
   },
   {
    "id": "bbc73f423f38459d9601fb62ded404f6",
    "time": "2021-01-17T17:57:51.547Z",
    "type": "completion"
   },
   {
    "id": "393599edb3f54b9a861baefb22a64ea0",
    "time": "2021-01-17T17:57:51.577Z",
    "type": "completion"
   },
   {
    "id": "ba38bde9c06749d2a7e5f2191986a0df",
    "time": "2021-01-17T17:57:51.583Z",
    "type": "completion"
   },
   {
    "id": "b4d0bf11de70475a8c8b6fda90e7fcab",
    "time": "2021-01-17T17:57:51.585Z",
    "type": "completion"
   },
   {
    "id": "e8f962319d834c2a8e101d566a4fe5bc",
    "time": "2021-01-17T17:57:51.587Z",
    "type": "completion"
   },
   {
    "id": "4c99d6088c8241c7bce131d46e7e3889",
    "time": "2021-01-17T17:57:51.589Z",
    "type": "completion"
   },
   {
    "id": "829e1cf6d0104a90a2a3a583bf8fc899",
    "time": "2021-01-17T17:57:51.590Z",
    "type": "completion"
   },
   {
    "id": "01f01274813a4ec59a7a0d04cc663f84",
    "time": "2021-01-17T17:57:51.592Z",
    "type": "completion"
   },
   {
    "id": "c35b73570a7e4cba89540dc791617642",
    "time": "2021-01-17T17:57:51.593Z",
    "type": "completion"
   },
   {
    "id": "17b006abc8df460c98db7ca9c29e77b9",
    "time": "2021-01-17T17:57:51.597Z",
    "type": "completion"
   },
   {
    "id": "5469540a13e14dab81d05dde08ade13b",
    "time": "2021-01-17T17:57:51.598Z",
    "type": "completion"
   },
   {
    "id": "aac04bd4435145948982283317d32487",
    "time": "2021-01-17T17:57:51.600Z",
    "type": "completion"
   },
   {
    "id": "6f3a213601e24fc088f8e74b8e7a610c",
    "time": "2021-01-17T17:57:51.602Z",
    "type": "completion"
   },
   {
    "id": "c2f7d2cc24154dd48cfa3698ec5552bd",
    "time": "2021-01-17T17:57:51.603Z",
    "type": "completion"
   },
   {
    "id": "46c0b3d804194df09f9f24730365aa29",
    "time": "2021-01-17T17:57:51.607Z",
    "type": "completion"
   },
   {
    "id": "f9dc636981d64d3c90ad7924e0f248c9",
    "time": "2021-01-17T17:57:51.609Z",
    "type": "completion"
   },
   {
    "id": "7b192c8e91be4bddaab73f93398dc7c6",
    "time": "2021-01-17T17:57:51.610Z",
    "type": "completion"
   },
   {
    "id": "d566605090dc424087eecfb22600b232",
    "time": "2021-01-17T17:57:51.615Z",
    "type": "completion"
   },
   {
    "id": "fa5bbfed1daf4287bc6d683f207aaaaa",
    "time": "2021-01-17T17:57:51.618Z",
    "type": "completion"
   },
   {
    "id": "43dc728e51d34d448cbcc0b07ee4bf54",
    "time": "2021-01-17T17:57:51.623Z",
    "type": "completion"
   },
   {
    "id": "59f96df1e503472188668ae33ce05fa8",
    "time": "2021-01-17T17:57:51.626Z",
    "type": "completion"
   },
   {
    "id": "7f8d35d2151c40148b516ab7678d9c1b",
    "time": "2021-01-17T17:57:51.631Z",
    "type": "completion"
   },
   {
    "id": "513e64a52091401582941a713823d603",
    "time": "2021-01-17T17:57:51.634Z",
    "type": "completion"
   },
   {
    "id": "eb4edb69609a4900960c4687bf5e4056",
    "time": "2021-01-17T17:57:51.638Z",
    "type": "completion"
   },
   {
    "id": "39e0aac3d33e422a969cd15ff428829f",
    "time": "2021-01-17T17:57:51.720Z",
    "type": "completion"
   },
   {
    "id": "094decd551aa44fb8a03a3770fe72f6f",
    "time": "2021-01-17T17:57:51.809Z",
    "type": "completion"
   },
   {
    "id": "9a1da5416f9643bd8e0522e43244bdec",
    "time": "2021-01-17T17:57:52.618Z",
    "type": "completion"
   },
   {
    "code": "help(print)",
    "id": "e5c03488e6f64c8d81ba921def348ed8",
    "idx": 6,
    "time": "2021-01-19T22:35:10.198Z",
    "type": "execution"
   },
   {
    "code": "print('Welcome to Data 100.')",
    "id": "0c633be24e794914b48a97ce53dd9e0c",
    "idx": 8,
    "time": "2021-01-19T22:35:10.203Z",
    "type": "execution"
   },
   {
    "code": "import pandas as pd\nimport numpy as np\nimport matplotlib.pyplot as plt\nplt.style.use('fivethirtyeight')\n%matplotlib inline",
    "id": "62f60f90e06d40e9877a19b1d310460a",
    "idx": 10,
    "time": "2021-01-19T22:35:10.206Z",
    "type": "execution"
   },
   {
    "code": "%%time\n\nlst = []\nfor i in range(100):\n    lst.append(i)",
    "id": "e4be99a69e1e4fd896be268ec0df0c39",
    "idx": 12,
    "time": "2021-01-19T22:35:10.209Z",
    "type": "execution"
   },
   {
    "code": "arr = np.array([1, 2, 3, 4, 5]) # SOLUTION",
    "id": "1ddcee3b8c7d41f4bb6f54262cb1f9f0",
    "idx": 18,
    "time": "2021-01-19T22:35:10.213Z",
    "type": "execution"
   },
   {
    "code": "# TEST\narr",
    "id": "d9f037fbe9184c7b84472633fed8c029",
    "idx": 19,
    "time": "2021-01-19T22:35:10.215Z",
    "type": "execution"
   },
   {
    "code": "# TEST\ntype(arr) is np.ndarray",
    "id": "60779946465e438e912defc77609f276",
    "idx": 20,
    "time": "2021-01-19T22:35:10.218Z",
    "type": "execution"
   },
   {
    "code": "arr[3]",
    "id": "8a9b22beba5d485db487c7ede156a814",
    "idx": 22,
    "time": "2021-01-19T22:35:10.220Z",
    "type": "execution"
   },
   {
    "code": "arr[2:4]",
    "id": "4039ec128ad54a2b84d286436a7cb55c",
    "idx": 23,
    "time": "2021-01-19T22:35:10.222Z",
    "type": "execution"
   },
   {
    "code": "arr.shape",
    "id": "2c44fd1bc07b465a80ff2d4dd1cef962",
    "idx": 24,
    "time": "2021-01-19T22:35:10.224Z",
    "type": "execution"
   },
   {
    "code": "arr.dtype",
    "id": "b2542c53df024e419ffc9767c1f40e4f",
    "idx": 25,
    "time": "2021-01-19T22:35:10.226Z",
    "type": "execution"
   },
   {
    "code": "# A regular Python list can store items of different data types\n[1, '3']",
    "id": "660659e62dd0485181096c4d0c57d44c",
    "idx": 27,
    "time": "2021-01-19T22:35:10.229Z",
    "type": "execution"
   },
   {
    "code": "# Arrays will convert everything to the same data type\nnp.array([1, '3'])",
    "id": "674ee8aa67974a5a8ced66b4095bb7f5",
    "idx": 28,
    "time": "2021-01-19T22:35:10.231Z",
    "type": "execution"
   },
   {
    "code": "# Another example of array type conversion\nnp.array([5, 8.3])",
    "id": "4c264a773416498d8a1965d37279efec",
    "idx": 29,
    "time": "2021-01-19T22:35:10.234Z",
    "type": "execution"
   },
   {
    "code": "# Python list addition will concatenate the two lists\n[1, 2, 3] + [4, 5, 6]",
    "id": "2a56a1ca919046249bd8446c6cc06a6a",
    "idx": 31,
    "time": "2021-01-19T22:35:10.236Z",
    "type": "execution"
   },
   {
    "code": "# NumPy array addition will add them element-wise\nnp.array([1, 2, 3]) + np.array([4, 5, 6])",
    "id": "a633d68728ee46c0869f07837947642d",
    "idx": 32,
    "time": "2021-01-19T22:35:10.238Z",
    "type": "execution"
   },
   {
    "code": "def summation(n):\n    \"\"\"Compute the summation i^3 + 3 * i^2 for 1 <= i <= n.\"\"\"\n    # BEGIN SOLUTION\n    if n < 1:\n        raise ValueError(\"n must be greater than or equal to 1\")\n    return sum((np.arange(1, n + 1) ** 3) + (3 * np.arange(1, n + 1) ** 2))\n    # END SOLUTION",
    "id": "d25639ea687e44568fd8101a9a7827fd",
    "idx": 35,
    "time": "2021-01-19T22:35:10.241Z",
    "type": "execution"
   },
   {
    "code": "# TEST\nsummation(1)",
    "id": "c1f912c11bd948ec9de222e60fa3e897",
    "idx": 36,
    "time": "2021-01-19T22:35:10.244Z",
    "type": "execution"
   },
   {
    "code": "# TEST\nsummation(2)",
    "id": "b0989035a7d44fa982c20d374f123534",
    "idx": 37,
    "time": "2021-01-19T22:35:10.245Z",
    "type": "execution"
   },
   {
    "code": "# TEST\nsummation(100)",
    "id": "dcb3f98cdfc04ab28c7dd2ce0e60339b",
    "idx": 38,
    "time": "2021-01-19T22:35:10.247Z",
    "type": "execution"
   },
   {
    "code": "def elementwise_array_sum(list_1, list_2):\n    \"\"\"Compute x^2 + y^3 for each x, y in list_1, list_2. \n    \n    Assume list_1 and list_2 have the same length.\n    \n    Return a NumPy array.\n    \"\"\"\n    assert len(list_1) == len(list_2), \"both args must have the same number of elements\"\n    # BEGIN SOLUTION\n    # Solution 1\n    return np.square(list_1) + np.power(list_2, 3)\n    # Solution 2\n    return np.array(list_1) ** 2 + np.array(list_2) ** 3\n    # END SOLUTION",
    "id": "d346b378219d4776847f450f8f482297",
    "idx": 40,
    "time": "2021-01-19T22:35:10.250Z",
    "type": "execution"
   },
   {
    "code": "# TEST\nelementwise_array_sum([], [])",
    "id": "76fda371d14b42148fc08521aa198de7",
    "idx": 41,
    "time": "2021-01-19T22:35:10.252Z",
    "type": "execution"
   },
   {
    "code": "# TEST\nelementwise_array_sum([1], [1])",
    "id": "2f171aaf1c3446958e8402b1881b86ff",
    "idx": 42,
    "time": "2021-01-19T22:35:10.254Z",
    "type": "execution"
   },
   {
    "code": "# TEST\nelementwise_array_sum([-1], [1])",
    "id": "a598feada4e04535bf140425a677804b",
    "idx": 43,
    "time": "2021-01-19T22:35:10.256Z",
    "type": "execution"
   },
   {
    "code": "# TEST\nelementwise_array_sum([1], [-1])",
    "id": "78795bf6d8664eddb79947b019d0550e",
    "idx": 44,
    "time": "2021-01-19T22:35:10.258Z",
    "type": "execution"
   },
   {
    "code": "# TEST\nelementwise_array_sum([1, 2, 3], [1, 2, 3])",
    "id": "09f7753e4bc14249852e76e8de20544b",
    "idx": 45,
    "time": "2021-01-19T22:35:10.262Z",
    "type": "execution"
   },
   {
    "code": "# TEST\nelementwise_array_sum([1, 5, 2], [3, 6, 6])",
    "id": "bf51a38678c84fe68ec932b8f0a25e6d",
    "idx": 46,
    "time": "2021-01-19T22:35:10.265Z",
    "type": "execution"
   },
   {
    "code": "# TEST\ntype(elementwise_array_sum([], [])) is np.ndarray",
    "id": "8703e1b78f9f42cf8298408a6a6efdda",
    "idx": 47,
    "time": "2021-01-19T22:35:10.266Z",
    "type": "execution"
   },
   {
    "code": "def elementwise_list_sum(list_1, list_2):\n    \"\"\"Compute x^2 + y^3 for each x, y in list_1, list_2. \n    \n    Assume list_1 and list_2 have the same length.\n    \"\"\"\n\n    return [x ** 2 + y ** 3 for x, y in zip(list_1, list_2)]",
    "id": "a12d6261489441b4866c3bc0dceead70",
    "idx": 49,
    "time": "2021-01-19T22:35:10.269Z",
    "type": "execution"
   },
   {
    "code": "sample_list_1 = list(range(10))\nsample_array_1 = np.arange(10)",
    "id": "98df6803a0ee4f40b7f3e903152eddd5",
    "idx": 51,
    "time": "2021-01-19T22:35:10.271Z",
    "type": "execution"
   },
   {
    "code": "%%time\nelementwise_list_sum(sample_list_1, sample_list_1)",
    "id": "506540992b35409c833be03884d4c5b3",
    "idx": 52,
    "time": "2021-01-19T22:35:10.273Z",
    "type": "execution"
   },
   {
    "code": "%%time\nelementwise_array_sum(sample_array_1, sample_array_1)",
    "id": "cdfdf0f9eb164d2ab21f9d5f27076950",
    "idx": 53,
    "time": "2021-01-19T22:35:10.275Z",
    "type": "execution"
   },
   {
    "code": "sample_list_2 = list(range(100000))\nsample_array_2 = np.arange(100000)",
    "id": "ce7388a0b0c94ed38a9564f60344edb9",
    "idx": 55,
    "time": "2021-01-19T22:35:10.277Z",
    "type": "execution"
   },
   {
    "code": "%%time\nelementwise_list_sum(sample_list_2, sample_list_2)\n; # The semicolon hides the output",
    "id": "6f17fa1e1ec541ac900380e36c48b606",
    "idx": 56,
    "time": "2021-01-19T22:35:10.279Z",
    "type": "execution"
   },
   {
    "code": "%%time\nelementwise_array_sum(sample_array_2, sample_array_2)\n;",
    "id": "69e6fbcbda924faf8ae38e9436bfab4c",
    "idx": 57,
    "time": "2021-01-19T22:35:10.281Z",
    "type": "execution"
   },
   {
    "code": "def mean(population):\n    \"\"\"\n    Returns the mean of population (mu)\n    \n    Keyword arguments:\n    population -- a numpy array of numbers\n    \"\"\"\n    # Calculate the mean of a population\n    return sum(population) / len(population) # SOLUTION\n\ndef variance(population):\n    \"\"\"\n    Returns the variance of population (sigma squared)\n    \n    Keyword arguments:\n    population -- a numpy array of numbers\n    \"\"\"\n    # Calculate the variance of a population\n    # BEGIN SOLUTION\n    m = mean(population)\n    return sum((population - m) ** 2) / len(population)\n    # END SOLUTION",
    "id": "db2a93c1e0d14b7c8a26bb08d2a90067",
    "idx": 60,
    "time": "2021-01-19T22:35:10.284Z",
    "type": "execution"
   },
   {
    "code": "# TEST\npopulation_0 = np.random.randn(100)\nnp.isclose(mean(population_0), np.mean(population_0), atol=1e-6)",
    "id": "72001c9d41ad465a8eca73b2f3bc860a",
    "idx": 61,
    "time": "2021-01-19T22:35:10.286Z",
    "type": "execution"
   },
   {
    "code": "# HIDDEN TEST\npopulation_1 = 3 * np.random.randn(100) + 5\nnp.isclose(mean(population_1), np.mean(population_1), atol=1e-6)",
    "id": "b23d11b380d64dc49bdb036c175b52a9",
    "idx": 62,
    "time": "2021-01-19T22:35:10.288Z",
    "type": "execution"
   },
   {
    "code": "# TEST\npopulation_0 = np.random.randn(100)\nnp.isclose(variance(population_0), np.var(population_0), atol=1e-6)",
    "id": "c187214fcaec4be4ba46db6fb20ca2c1",
    "idx": 63,
    "time": "2021-01-19T22:35:10.290Z",
    "type": "execution"
   },
   {
    "code": "# HIDDEN TEST\npopulation_1 = 3 * np.random.randn(100) + 5\nnp.isclose(variance(population_1), np.var(population_1), atol=1e-6)",
    "id": "ea1f1b7669274834a70922e242ffcbf3",
    "idx": 64,
    "time": "2021-01-19T22:35:10.292Z",
    "type": "execution"
   },
   {
    "code": "np.random.seed(42)\nrandom_arr = np.random.rand(60)\nvalid_values = random_arr[(2 * random_arr ** 4 > 1)] # SOLUTION",
    "id": "246465d01156499a8f22746c1399794f",
    "idx": 66,
    "time": "2021-01-19T22:35:10.294Z",
    "type": "execution"
   },
   {
    "code": "# TEST\nvalid_values",
    "id": "38ea0a45ee96410e8bf08ef064554a9c",
    "idx": 67,
    "time": "2021-01-19T22:35:10.296Z",
    "type": "execution"
   },
   {
    "code": "# TEST\nlen(valid_values) == 10",
    "id": "1a2adb969d0c463ea36d795e0352334c",
    "idx": 68,
    "time": "2021-01-19T22:35:10.298Z",
    "type": "execution"
   },
   {
    "code": "# TEST\nnp.allclose(valid_values, [0.95071431, 0.86617615, 0.96990985, 0.94888554, 0.96563203,\n       0.9093204 , 0.96958463, 0.93949894, 0.89482735, 0.92187424])",
    "id": "6afed6d72e54438cbf0a3bb6b4171fa6",
    "idx": 69,
    "time": "2021-01-19T22:35:10.299Z",
    "type": "execution"
   },
   {
    "code": "def f(x):\n    return x ** 2 # SOLUTION\n    \ndef df(x):\n    return 2 * x # SOLUTION\n\ndef plot(f, df):              \n    # BEGIN SOLUTION\n    x = np.linspace(-15, 15, 100)\n\n    plt.figure(figsize = (4, 4))\n    plt.plot(x, f(x))\n    plt.plot(x, np.zeros(x.shape[0]))\n    plt.plot(x, df(8) * (x - 8) + f(8))\n    \n    plt.xlim(-15, 15)\n    plt.ylim(-100, 300)\n    # END SOLUTION\n\nplot(f, df)",
    "id": "e6461cf26aa444219d83dad65eae2314",
    "idx": 76,
    "time": "2021-01-19T22:35:10.310Z",
    "type": "execution"
   },
   {
    "code": "from mpl_toolkits.mplot3d import axes3d\n\nu = np.linspace(1.5 * np.pi, -1.5 * np.pi, 100)\n# Your answer here\n[x, y] = np.meshgrid(u, u)\n# Your answer here\nsquared = np.sqrt(x.flatten() ** 2 + y.flatten() ** 2)\nz = np.cos(squared)\n# Your answer here\nz = z.reshape(x.shape)\n# Your answer here\n\nfig = plt.figure(figsize = (6, 6))\nax = fig.add_subplot(111, projection = '3d')\n# Your answer here\nax.plot_wireframe(x, y, z, rstride = 5, cstride = 5, lw = 2)\n# Your answer here\nax.view_init(elev = 60, azim = 25)\n# Your answer here\nplt.savefig(\"figure1.png\")\n# Your answer here",
    "id": "74e66ee7ea5447298fc67c3e1b5e641e",
    "idx": 78,
    "time": "2021-01-19T22:35:10.312Z",
    "type": "execution"
   },
   {
    "id": "e5c03488e6f64c8d81ba921def348ed8",
    "time": "2021-01-19T22:35:10.453Z",
    "type": "completion"
   },
   {
    "id": "0c633be24e794914b48a97ce53dd9e0c",
    "time": "2021-01-19T22:35:10.455Z",
    "type": "completion"
   },
   {
    "id": "62f60f90e06d40e9877a19b1d310460a",
    "time": "2021-01-19T22:35:10.836Z",
    "type": "completion"
   },
   {
    "id": "e4be99a69e1e4fd896be268ec0df0c39",
    "time": "2021-01-19T22:35:10.842Z",
    "type": "completion"
   },
   {
    "id": "1ddcee3b8c7d41f4bb6f54262cb1f9f0",
    "time": "2021-01-19T22:35:10.870Z",
    "type": "completion"
   },
   {
    "id": "d9f037fbe9184c7b84472633fed8c029",
    "time": "2021-01-19T22:35:10.889Z",
    "type": "completion"
   },
   {
    "id": "60779946465e438e912defc77609f276",
    "time": "2021-01-19T22:35:10.895Z",
    "type": "completion"
   },
   {
    "id": "8a9b22beba5d485db487c7ede156a814",
    "time": "2021-01-19T22:35:10.897Z",
    "type": "completion"
   },
   {
    "id": "4039ec128ad54a2b84d286436a7cb55c",
    "time": "2021-01-19T22:35:10.924Z",
    "type": "completion"
   },
   {
    "id": "2c44fd1bc07b465a80ff2d4dd1cef962",
    "time": "2021-01-19T22:35:10.933Z",
    "type": "completion"
   },
   {
    "id": "b2542c53df024e419ffc9767c1f40e4f",
    "time": "2021-01-19T22:35:10.935Z",
    "type": "completion"
   },
   {
    "id": "660659e62dd0485181096c4d0c57d44c",
    "time": "2021-01-19T22:35:10.941Z",
    "type": "completion"
   },
   {
    "id": "674ee8aa67974a5a8ced66b4095bb7f5",
    "time": "2021-01-19T22:35:10.945Z",
    "type": "completion"
   },
   {
    "id": "4c264a773416498d8a1965d37279efec",
    "time": "2021-01-19T22:35:10.947Z",
    "type": "completion"
   },
   {
    "id": "2a56a1ca919046249bd8446c6cc06a6a",
    "time": "2021-01-19T22:35:10.950Z",
    "type": "completion"
   },
   {
    "id": "a633d68728ee46c0869f07837947642d",
    "time": "2021-01-19T22:35:10.951Z",
    "type": "completion"
   },
   {
    "id": "d25639ea687e44568fd8101a9a7827fd",
    "time": "2021-01-19T22:35:10.953Z",
    "type": "completion"
   },
   {
    "id": "c1f912c11bd948ec9de222e60fa3e897",
    "time": "2021-01-19T22:35:10.977Z",
    "type": "completion"
   },
   {
    "id": "b0989035a7d44fa982c20d374f123534",
    "time": "2021-01-19T22:35:10.984Z",
    "type": "completion"
   },
   {
    "id": "dcb3f98cdfc04ab28c7dd2ce0e60339b",
    "time": "2021-01-19T22:35:10.985Z",
    "type": "completion"
   },
   {
    "id": "d346b378219d4776847f450f8f482297",
    "time": "2021-01-19T22:35:10.990Z",
    "type": "completion"
   },
   {
    "id": "76fda371d14b42148fc08521aa198de7",
    "time": "2021-01-19T22:35:10.993Z",
    "type": "completion"
   },
   {
    "id": "2f171aaf1c3446958e8402b1881b86ff",
    "time": "2021-01-19T22:35:10.996Z",
    "type": "completion"
   },
   {
    "id": "a598feada4e04535bf140425a677804b",
    "time": "2021-01-19T22:35:11.002Z",
    "type": "completion"
   },
   {
    "id": "78795bf6d8664eddb79947b019d0550e",
    "time": "2021-01-19T22:35:11.003Z",
    "type": "completion"
   },
   {
    "id": "09f7753e4bc14249852e76e8de20544b",
    "time": "2021-01-19T22:35:11.005Z",
    "type": "completion"
   },
   {
    "id": "bf51a38678c84fe68ec932b8f0a25e6d",
    "time": "2021-01-19T22:35:11.006Z",
    "type": "completion"
   },
   {
    "id": "8703e1b78f9f42cf8298408a6a6efdda",
    "time": "2021-01-19T22:35:11.008Z",
    "type": "completion"
   },
   {
    "id": "a12d6261489441b4866c3bc0dceead70",
    "time": "2021-01-19T22:35:11.033Z",
    "type": "completion"
   },
   {
    "id": "98df6803a0ee4f40b7f3e903152eddd5",
    "time": "2021-01-19T22:35:11.039Z",
    "type": "completion"
   },
   {
    "id": "506540992b35409c833be03884d4c5b3",
    "time": "2021-01-19T22:35:11.044Z",
    "type": "completion"
   },
   {
    "id": "cdfdf0f9eb164d2ab21f9d5f27076950",
    "time": "2021-01-19T22:35:11.047Z",
    "type": "completion"
   },
   {
    "id": "ce7388a0b0c94ed38a9564f60344edb9",
    "time": "2021-01-19T22:35:11.072Z",
    "type": "completion"
   },
   {
    "id": "6f17fa1e1ec541ac900380e36c48b606",
    "time": "2021-01-19T22:35:11.133Z",
    "type": "completion"
   },
   {
    "id": "69e6fbcbda924faf8ae38e9436bfab4c",
    "time": "2021-01-19T22:35:11.136Z",
    "type": "completion"
   },
   {
    "id": "db2a93c1e0d14b7c8a26bb08d2a90067",
    "time": "2021-01-19T22:35:11.138Z",
    "type": "completion"
   },
   {
    "id": "72001c9d41ad465a8eca73b2f3bc860a",
    "time": "2021-01-19T22:35:11.140Z",
    "type": "completion"
   },
   {
    "id": "b23d11b380d64dc49bdb036c175b52a9",
    "time": "2021-01-19T22:35:11.165Z",
    "type": "completion"
   },
   {
    "id": "c187214fcaec4be4ba46db6fb20ca2c1",
    "time": "2021-01-19T22:35:11.168Z",
    "type": "completion"
   },
   {
    "id": "ea1f1b7669274834a70922e242ffcbf3",
    "time": "2021-01-19T22:35:11.170Z",
    "type": "completion"
   },
   {
    "id": "246465d01156499a8f22746c1399794f",
    "time": "2021-01-19T22:35:11.171Z",
    "type": "completion"
   },
   {
    "id": "38ea0a45ee96410e8bf08ef064554a9c",
    "time": "2021-01-19T22:35:11.176Z",
    "type": "completion"
   },
   {
    "id": "1a2adb969d0c463ea36d795e0352334c",
    "time": "2021-01-19T22:35:11.179Z",
    "type": "completion"
   },
   {
    "id": "6afed6d72e54438cbf0a3bb6b4171fa6",
    "time": "2021-01-19T22:35:11.180Z",
    "type": "completion"
   },
   {
    "id": "e6461cf26aa444219d83dad65eae2314",
    "time": "2021-01-19T22:35:11.331Z",
    "type": "completion"
   },
   {
    "id": "74e66ee7ea5447298fc67c3e1b5e641e",
    "time": "2021-01-19T22:35:11.651Z",
    "type": "completion"
   },
   {
    "code": "help(print)",
    "id": "e5c03488e6f64c8d81ba921def348ed8",
    "idx": 6,
    "time": "2021-01-19T22:53:32.355Z",
    "type": "execution"
   },
   {
    "code": "print('Welcome to Data 100.')",
    "id": "0c633be24e794914b48a97ce53dd9e0c",
    "idx": 8,
    "time": "2021-01-19T22:53:32.397Z",
    "type": "execution"
   },
   {
    "code": "import pandas as pd\nimport numpy as np\nimport matplotlib.pyplot as plt\nplt.style.use('fivethirtyeight')\n%matplotlib inline",
    "id": "62f60f90e06d40e9877a19b1d310460a",
    "idx": 10,
    "time": "2021-01-19T22:53:32.406Z",
    "type": "execution"
   },
   {
    "code": "%%time\n\nlst = []\nfor i in range(100):\n    lst.append(i)",
    "id": "e4be99a69e1e4fd896be268ec0df0c39",
    "idx": 12,
    "time": "2021-01-19T22:53:32.410Z",
    "type": "execution"
   },
   {
    "code": "arr = np.array([1, 2, 3, 4, 5]) # SOLUTION",
    "id": "1ddcee3b8c7d41f4bb6f54262cb1f9f0",
    "idx": 18,
    "time": "2021-01-19T22:53:32.475Z",
    "type": "execution"
   },
   {
    "code": "# TEST\narr",
    "id": "d9f037fbe9184c7b84472633fed8c029",
    "idx": 19,
    "time": "2021-01-19T22:53:32.478Z",
    "type": "execution"
   },
   {
    "code": "# TEST\ntype(arr) is np.ndarray",
    "id": "60779946465e438e912defc77609f276",
    "idx": 20,
    "time": "2021-01-19T22:53:32.480Z",
    "type": "execution"
   },
   {
    "code": "arr[3]",
    "id": "8a9b22beba5d485db487c7ede156a814",
    "idx": 22,
    "time": "2021-01-19T22:53:32.486Z",
    "type": "execution"
   },
   {
    "code": "arr[2:4]",
    "id": "4039ec128ad54a2b84d286436a7cb55c",
    "idx": 23,
    "time": "2021-01-19T22:53:32.488Z",
    "type": "execution"
   },
   {
    "code": "arr.shape",
    "id": "2c44fd1bc07b465a80ff2d4dd1cef962",
    "idx": 24,
    "time": "2021-01-19T22:53:32.490Z",
    "type": "execution"
   },
   {
    "code": "arr.dtype",
    "id": "b2542c53df024e419ffc9767c1f40e4f",
    "idx": 25,
    "time": "2021-01-19T22:53:32.492Z",
    "type": "execution"
   },
   {
    "code": "# A regular Python list can store items of different data types\n[1, '3']",
    "id": "660659e62dd0485181096c4d0c57d44c",
    "idx": 27,
    "time": "2021-01-19T22:53:32.497Z",
    "type": "execution"
   },
   {
    "code": "# Arrays will convert everything to the same data type\nnp.array([1, '3'])",
    "id": "674ee8aa67974a5a8ced66b4095bb7f5",
    "idx": 28,
    "time": "2021-01-19T22:53:32.500Z",
    "type": "execution"
   },
   {
    "code": "# Another example of array type conversion\nnp.array([5, 8.3])",
    "id": "4c264a773416498d8a1965d37279efec",
    "idx": 29,
    "time": "2021-01-19T22:53:32.502Z",
    "type": "execution"
   },
   {
    "code": "# Python list addition will concatenate the two lists\n[1, 2, 3] + [4, 5, 6]",
    "id": "2a56a1ca919046249bd8446c6cc06a6a",
    "idx": 31,
    "time": "2021-01-19T22:53:32.505Z",
    "type": "execution"
   },
   {
    "code": "# NumPy array addition will add them element-wise\nnp.array([1, 2, 3]) + np.array([4, 5, 6])",
    "id": "a633d68728ee46c0869f07837947642d",
    "idx": 32,
    "time": "2021-01-19T22:53:32.511Z",
    "type": "execution"
   },
   {
    "code": "def summation(n):\n    \"\"\"Compute the summation i^3 + 3 * i^2 for 1 <= i <= n.\"\"\"\n    # BEGIN SOLUTION\n    if n < 1:\n        raise ValueError(\"n must be greater than or equal to 1\")\n    return sum((np.arange(1, n + 1) ** 3) + (3 * np.arange(1, n + 1) ** 2))\n    # END SOLUTION",
    "id": "d25639ea687e44568fd8101a9a7827fd",
    "idx": 35,
    "time": "2021-01-19T22:53:32.518Z",
    "type": "execution"
   },
   {
    "code": "# TEST\nsummation(1)",
    "id": "c1f912c11bd948ec9de222e60fa3e897",
    "idx": 36,
    "time": "2021-01-19T22:53:32.520Z",
    "type": "execution"
   },
   {
    "code": "# TEST\nsummation(2)",
    "id": "b0989035a7d44fa982c20d374f123534",
    "idx": 37,
    "time": "2021-01-19T22:53:32.522Z",
    "type": "execution"
   },
   {
    "code": "# TEST\nsummation(100)",
    "id": "dcb3f98cdfc04ab28c7dd2ce0e60339b",
    "idx": 38,
    "time": "2021-01-19T22:53:32.524Z",
    "type": "execution"
   },
   {
    "code": "def elementwise_array_sum(list_1, list_2):\n    \"\"\"Compute x^2 + y^3 for each x, y in list_1, list_2. \n    \n    Assume list_1 and list_2 have the same length.\n    \n    Return a NumPy array.\n    \"\"\"\n    assert len(list_1) == len(list_2), \"both args must have the same number of elements\"\n    # BEGIN SOLUTION\n    # Solution 1\n    return np.square(list_1) + np.power(list_2, 3)\n    # Solution 2\n    return np.array(list_1) ** 2 + np.array(list_2) ** 3\n    # END SOLUTION",
    "id": "d346b378219d4776847f450f8f482297",
    "idx": 40,
    "time": "2021-01-19T22:53:32.526Z",
    "type": "execution"
   },
   {
    "code": "# TEST\nelementwise_array_sum([], [])",
    "id": "76fda371d14b42148fc08521aa198de7",
    "idx": 41,
    "time": "2021-01-19T22:53:32.528Z",
    "type": "execution"
   },
   {
    "code": "# TEST\nelementwise_array_sum([1], [1])",
    "id": "2f171aaf1c3446958e8402b1881b86ff",
    "idx": 42,
    "time": "2021-01-19T22:53:32.531Z",
    "type": "execution"
   },
   {
    "code": "# TEST\nelementwise_array_sum([-1], [1])",
    "id": "a598feada4e04535bf140425a677804b",
    "idx": 43,
    "time": "2021-01-19T22:53:32.533Z",
    "type": "execution"
   },
   {
    "code": "# TEST\nelementwise_array_sum([1], [-1])",
    "id": "78795bf6d8664eddb79947b019d0550e",
    "idx": 44,
    "time": "2021-01-19T22:53:32.534Z",
    "type": "execution"
   },
   {
    "code": "# TEST\nelementwise_array_sum([1, 2, 3], [1, 2, 3])",
    "id": "09f7753e4bc14249852e76e8de20544b",
    "idx": 45,
    "time": "2021-01-19T22:53:32.538Z",
    "type": "execution"
   },
   {
    "code": "# TEST\nelementwise_array_sum([1, 5, 2], [3, 6, 6])",
    "id": "bf51a38678c84fe68ec932b8f0a25e6d",
    "idx": 46,
    "time": "2021-01-19T22:53:32.541Z",
    "type": "execution"
   },
   {
    "code": "# TEST\ntype(elementwise_array_sum([], [])) is np.ndarray",
    "id": "8703e1b78f9f42cf8298408a6a6efdda",
    "idx": 47,
    "time": "2021-01-19T22:53:32.543Z",
    "type": "execution"
   },
   {
    "code": "def elementwise_list_sum(list_1, list_2):\n    \"\"\"Compute x^2 + y^3 for each x, y in list_1, list_2. \n    \n    Assume list_1 and list_2 have the same length.\n    \"\"\"\n\n    return [x ** 2 + y ** 3 for x, y in zip(list_1, list_2)]",
    "id": "a12d6261489441b4866c3bc0dceead70",
    "idx": 49,
    "time": "2021-01-19T22:53:32.546Z",
    "type": "execution"
   },
   {
    "code": "sample_list_1 = list(range(10))\nsample_array_1 = np.arange(10)",
    "id": "98df6803a0ee4f40b7f3e903152eddd5",
    "idx": 51,
    "time": "2021-01-19T22:53:32.548Z",
    "type": "execution"
   },
   {
    "code": "%%time\nelementwise_list_sum(sample_list_1, sample_list_1)",
    "id": "506540992b35409c833be03884d4c5b3",
    "idx": 52,
    "time": "2021-01-19T22:53:32.551Z",
    "type": "execution"
   },
   {
    "code": "%%time\nelementwise_array_sum(sample_array_1, sample_array_1)",
    "id": "cdfdf0f9eb164d2ab21f9d5f27076950",
    "idx": 53,
    "time": "2021-01-19T22:53:32.553Z",
    "type": "execution"
   },
   {
    "code": "sample_list_2 = list(range(100000))\nsample_array_2 = np.arange(100000)",
    "id": "ce7388a0b0c94ed38a9564f60344edb9",
    "idx": 55,
    "time": "2021-01-19T22:53:32.555Z",
    "type": "execution"
   },
   {
    "code": "%%time\nelementwise_list_sum(sample_list_2, sample_list_2)\n; # The semicolon hides the output",
    "id": "6f17fa1e1ec541ac900380e36c48b606",
    "idx": 56,
    "time": "2021-01-19T22:53:32.557Z",
    "type": "execution"
   },
   {
    "code": "%%time\nelementwise_array_sum(sample_array_2, sample_array_2)\n;",
    "id": "69e6fbcbda924faf8ae38e9436bfab4c",
    "idx": 57,
    "time": "2021-01-19T22:53:32.559Z",
    "type": "execution"
   },
   {
    "code": "def mean(population):\n    \"\"\"\n    Returns the mean of population (mu)\n    \n    Keyword arguments:\n    population -- a numpy array of numbers\n    \"\"\"\n    # Calculate the mean of a population\n    return sum(population) / len(population) # SOLUTION\n\ndef variance(population):\n    \"\"\"\n    Returns the variance of population (sigma squared)\n    \n    Keyword arguments:\n    population -- a numpy array of numbers\n    \"\"\"\n    # Calculate the variance of a population\n    # BEGIN SOLUTION\n    m = mean(population)\n    return sum((population - m) ** 2) / len(population)\n    # END SOLUTION",
    "id": "db2a93c1e0d14b7c8a26bb08d2a90067",
    "idx": 60,
    "time": "2021-01-19T22:53:32.562Z",
    "type": "execution"
   },
   {
    "code": "# TEST\npopulation_0 = np.random.randn(100)\nnp.isclose(mean(population_0), np.mean(population_0), atol=1e-6)",
    "id": "72001c9d41ad465a8eca73b2f3bc860a",
    "idx": 61,
    "time": "2021-01-19T22:53:32.564Z",
    "type": "execution"
   },
   {
    "code": "# HIDDEN TEST\npopulation_1 = 3 * np.random.randn(100) + 5\nnp.isclose(mean(population_1), np.mean(population_1), atol=1e-6)",
    "id": "b23d11b380d64dc49bdb036c175b52a9",
    "idx": 62,
    "time": "2021-01-19T22:53:32.566Z",
    "type": "execution"
   },
   {
    "code": "# TEST\npopulation_0 = np.random.randn(100)\nnp.isclose(variance(population_0), np.var(population_0), atol=1e-6)",
    "id": "c187214fcaec4be4ba46db6fb20ca2c1",
    "idx": 63,
    "time": "2021-01-19T22:53:32.567Z",
    "type": "execution"
   },
   {
    "code": "# HIDDEN TEST\npopulation_1 = 3 * np.random.randn(100) + 5\nnp.isclose(variance(population_1), np.var(population_1), atol=1e-6)",
    "id": "ea1f1b7669274834a70922e242ffcbf3",
    "idx": 64,
    "time": "2021-01-19T22:53:32.569Z",
    "type": "execution"
   },
   {
    "code": "np.random.seed(42)\nrandom_arr = np.random.rand(60)\nvalid_values = random_arr[(2 * random_arr ** 4 > 1)] # SOLUTION",
    "id": "246465d01156499a8f22746c1399794f",
    "idx": 66,
    "time": "2021-01-19T22:53:32.572Z",
    "type": "execution"
   },
   {
    "code": "# TEST\nvalid_values",
    "id": "38ea0a45ee96410e8bf08ef064554a9c",
    "idx": 67,
    "time": "2021-01-19T22:53:32.574Z",
    "type": "execution"
   },
   {
    "code": "# TEST\nlen(valid_values) == 10",
    "id": "1a2adb969d0c463ea36d795e0352334c",
    "idx": 68,
    "time": "2021-01-19T22:53:32.576Z",
    "type": "execution"
   },
   {
    "code": "# TEST\nnp.allclose(valid_values, [0.95071431, 0.86617615, 0.96990985, 0.94888554, 0.96563203,\n       0.9093204 , 0.96958463, 0.93949894, 0.89482735, 0.92187424])",
    "id": "6afed6d72e54438cbf0a3bb6b4171fa6",
    "idx": 69,
    "time": "2021-01-19T22:53:32.578Z",
    "type": "execution"
   },
   {
    "code": "def f(x):\n    return x ** 2 # SOLUTION\n    \ndef df(x):\n    return 2 * x # SOLUTION\n\ndef plot(f, df):              \n    # BEGIN SOLUTION\n    x = np.linspace(-15, 15, 100)\n\n    plt.figure(figsize = (4, 4))\n    plt.plot(x, f(x))\n    plt.plot(x, np.zeros(x.shape[0]))\n    plt.plot(x, df(8) * (x - 8) + f(8))\n    \n    plt.xlim(-15, 15)\n    plt.ylim(-100, 300)\n    # END SOLUTION\n\nplot(f, df)",
    "id": "e6461cf26aa444219d83dad65eae2314",
    "idx": 76,
    "time": "2021-01-19T22:53:32.583Z",
    "type": "execution"
   },
   {
    "code": "from mpl_toolkits.mplot3d import axes3d\n\nu = np.linspace(1.5 * np.pi, -1.5 * np.pi, 100)\n# Your answer here\n[x, y] = np.meshgrid(u, u)\n# Your answer here\nsquared = np.sqrt(x.flatten() ** 2 + y.flatten() ** 2)\nz = np.cos(squared)\n# Your answer here\nz = z.reshape(x.shape)\n# Your answer here\n\nfig = plt.figure(figsize = (6, 6))\nax = fig.add_subplot(111, projection = '3d')\n# Your answer here\nax.plot_wireframe(x, y, z, rstride = 5, cstride = 5, lw = 2)\n# Your answer here\nax.view_init(elev = 60, azim = 25)\n# Your answer here\nplt.savefig(\"figure1.png\")\n# Your answer here",
    "id": "74e66ee7ea5447298fc67c3e1b5e641e",
    "idx": 78,
    "time": "2021-01-19T22:53:32.587Z",
    "type": "execution"
   },
   {
    "id": "e5c03488e6f64c8d81ba921def348ed8",
    "time": "2021-01-19T22:53:32.836Z",
    "type": "completion"
   },
   {
    "id": "0c633be24e794914b48a97ce53dd9e0c",
    "time": "2021-01-19T22:53:32.839Z",
    "type": "completion"
   },
   {
    "id": "62f60f90e06d40e9877a19b1d310460a",
    "time": "2021-01-19T22:53:33.025Z",
    "type": "completion"
   },
   {
    "id": "e4be99a69e1e4fd896be268ec0df0c39",
    "time": "2021-01-19T22:53:33.030Z",
    "type": "completion"
   },
   {
    "id": "1ddcee3b8c7d41f4bb6f54262cb1f9f0",
    "time": "2021-01-19T22:53:33.064Z",
    "type": "completion"
   },
   {
    "id": "d9f037fbe9184c7b84472633fed8c029",
    "time": "2021-01-19T22:53:33.082Z",
    "type": "completion"
   },
   {
    "id": "60779946465e438e912defc77609f276",
    "time": "2021-01-19T22:53:33.085Z",
    "type": "completion"
   },
   {
    "id": "8a9b22beba5d485db487c7ede156a814",
    "time": "2021-01-19T22:53:33.087Z",
    "type": "completion"
   },
   {
    "id": "4039ec128ad54a2b84d286436a7cb55c",
    "time": "2021-01-19T22:53:33.089Z",
    "type": "completion"
   },
   {
    "id": "2c44fd1bc07b465a80ff2d4dd1cef962",
    "time": "2021-01-19T22:53:33.090Z",
    "type": "completion"
   },
   {
    "id": "b2542c53df024e419ffc9767c1f40e4f",
    "time": "2021-01-19T22:53:33.092Z",
    "type": "completion"
   },
   {
    "id": "660659e62dd0485181096c4d0c57d44c",
    "time": "2021-01-19T22:53:33.093Z",
    "type": "completion"
   },
   {
    "id": "674ee8aa67974a5a8ced66b4095bb7f5",
    "time": "2021-01-19T22:53:33.132Z",
    "type": "completion"
   },
   {
    "id": "4c264a773416498d8a1965d37279efec",
    "time": "2021-01-19T22:53:33.136Z",
    "type": "completion"
   },
   {
    "id": "2a56a1ca919046249bd8446c6cc06a6a",
    "time": "2021-01-19T22:53:33.138Z",
    "type": "completion"
   },
   {
    "id": "a633d68728ee46c0869f07837947642d",
    "time": "2021-01-19T22:53:33.141Z",
    "type": "completion"
   },
   {
    "id": "d25639ea687e44568fd8101a9a7827fd",
    "time": "2021-01-19T22:53:33.142Z",
    "type": "completion"
   },
   {
    "id": "c1f912c11bd948ec9de222e60fa3e897",
    "time": "2021-01-19T22:53:33.144Z",
    "type": "completion"
   },
   {
    "id": "b0989035a7d44fa982c20d374f123534",
    "time": "2021-01-19T22:53:33.145Z",
    "type": "completion"
   },
   {
    "id": "dcb3f98cdfc04ab28c7dd2ce0e60339b",
    "time": "2021-01-19T22:53:33.151Z",
    "type": "completion"
   },
   {
    "id": "d346b378219d4776847f450f8f482297",
    "time": "2021-01-19T22:53:33.153Z",
    "type": "completion"
   },
   {
    "id": "76fda371d14b42148fc08521aa198de7",
    "time": "2021-01-19T22:53:33.155Z",
    "type": "completion"
   },
   {
    "id": "2f171aaf1c3446958e8402b1881b86ff",
    "time": "2021-01-19T22:53:33.156Z",
    "type": "completion"
   },
   {
    "id": "a598feada4e04535bf140425a677804b",
    "time": "2021-01-19T22:53:33.158Z",
    "type": "completion"
   },
   {
    "id": "78795bf6d8664eddb79947b019d0550e",
    "time": "2021-01-19T22:53:33.188Z",
    "type": "completion"
   },
   {
    "id": "09f7753e4bc14249852e76e8de20544b",
    "time": "2021-01-19T22:53:33.191Z",
    "type": "completion"
   },
   {
    "id": "bf51a38678c84fe68ec932b8f0a25e6d",
    "time": "2021-01-19T22:53:33.192Z",
    "type": "completion"
   },
   {
    "id": "8703e1b78f9f42cf8298408a6a6efdda",
    "time": "2021-01-19T22:53:33.197Z",
    "type": "completion"
   },
   {
    "id": "a12d6261489441b4866c3bc0dceead70",
    "time": "2021-01-19T22:53:33.198Z",
    "type": "completion"
   },
   {
    "id": "98df6803a0ee4f40b7f3e903152eddd5",
    "time": "2021-01-19T22:53:33.201Z",
    "type": "completion"
   },
   {
    "id": "506540992b35409c833be03884d4c5b3",
    "time": "2021-01-19T22:53:33.228Z",
    "type": "completion"
   },
   {
    "id": "cdfdf0f9eb164d2ab21f9d5f27076950",
    "time": "2021-01-19T22:53:33.232Z",
    "type": "completion"
   },
   {
    "id": "ce7388a0b0c94ed38a9564f60344edb9",
    "time": "2021-01-19T22:53:33.237Z",
    "type": "completion"
   },
   {
    "id": "6f17fa1e1ec541ac900380e36c48b606",
    "time": "2021-01-19T22:53:33.267Z",
    "type": "completion"
   },
   {
    "id": "69e6fbcbda924faf8ae38e9436bfab4c",
    "time": "2021-01-19T22:53:33.270Z",
    "type": "completion"
   },
   {
    "id": "db2a93c1e0d14b7c8a26bb08d2a90067",
    "time": "2021-01-19T22:53:33.303Z",
    "type": "completion"
   },
   {
    "id": "72001c9d41ad465a8eca73b2f3bc860a",
    "time": "2021-01-19T22:53:33.312Z",
    "type": "completion"
   },
   {
    "id": "b23d11b380d64dc49bdb036c175b52a9",
    "time": "2021-01-19T22:53:33.317Z",
    "type": "completion"
   },
   {
    "id": "c187214fcaec4be4ba46db6fb20ca2c1",
    "time": "2021-01-19T22:53:33.319Z",
    "type": "completion"
   },
   {
    "id": "ea1f1b7669274834a70922e242ffcbf3",
    "time": "2021-01-19T22:53:33.321Z",
    "type": "completion"
   },
   {
    "id": "246465d01156499a8f22746c1399794f",
    "time": "2021-01-19T22:53:33.322Z",
    "type": "completion"
   },
   {
    "id": "38ea0a45ee96410e8bf08ef064554a9c",
    "time": "2021-01-19T22:53:33.323Z",
    "type": "completion"
   },
   {
    "id": "1a2adb969d0c463ea36d795e0352334c",
    "time": "2021-01-19T22:53:33.352Z",
    "type": "completion"
   },
   {
    "id": "6afed6d72e54438cbf0a3bb6b4171fa6",
    "time": "2021-01-19T22:53:33.357Z",
    "type": "completion"
   },
   {
    "id": "e6461cf26aa444219d83dad65eae2314",
    "time": "2021-01-19T22:53:33.479Z",
    "type": "completion"
   },
   {
    "id": "74e66ee7ea5447298fc67c3e1b5e641e",
    "time": "2021-01-19T22:53:33.921Z",
    "type": "completion"
   },
   {
    "code": "help(print)",
    "id": "807e162b55dd45268f4875933415b47d",
    "idx": 6,
    "time": "2021-01-20T04:07:55.823Z",
    "type": "execution"
   },
   {
    "code": "print('Welcome to Data 100.')",
    "id": "242d58b36c814c338b4727ca3c4e2549",
    "idx": 8,
    "time": "2021-01-20T04:07:55.829Z",
    "type": "execution"
   },
   {
    "code": "import pandas as pd\nimport numpy as np\nimport matplotlib.pyplot as plt\nplt.style.use('fivethirtyeight')\n%matplotlib inline",
    "id": "fa2541590ca841538efcb8cba37bc837",
    "idx": 10,
    "time": "2021-01-20T04:07:55.832Z",
    "type": "execution"
   },
   {
    "code": "%%time\n\nlst = []\nfor i in range(100):\n    lst.append(i)",
    "id": "f8f4557ca5e946d883be7d5cafa5b4c6",
    "idx": 12,
    "time": "2021-01-20T04:07:55.835Z",
    "type": "execution"
   },
   {
    "code": "arr = np.array([1, 2, 3, 4, 5]) # SOLUTION",
    "id": "b7023548740749068c12194cafd51054",
    "idx": 18,
    "time": "2021-01-20T04:07:55.840Z",
    "type": "execution"
   },
   {
    "code": "# TEST\narr",
    "id": "dd201ff489714308b8bcf0e12a56d8e8",
    "idx": 19,
    "time": "2021-01-20T04:07:55.843Z",
    "type": "execution"
   },
   {
    "code": "# TEST\ntype(arr) is np.ndarray",
    "id": "000eedbc928e4b2a8eabd69127d442bc",
    "idx": 20,
    "time": "2021-01-20T04:07:55.846Z",
    "type": "execution"
   },
   {
    "code": "arr[3]",
    "id": "6b47bf4f1dcb4632894a91a43e80b9b6",
    "idx": 22,
    "time": "2021-01-20T04:07:55.849Z",
    "type": "execution"
   },
   {
    "code": "arr[2:4]",
    "id": "222425d5d3394b74822cd9ad8483d235",
    "idx": 23,
    "time": "2021-01-20T04:07:55.853Z",
    "type": "execution"
   },
   {
    "code": "arr.shape",
    "id": "bdf3d5bc4c84478c9b07da233fce2f27",
    "idx": 24,
    "time": "2021-01-20T04:07:55.855Z",
    "type": "execution"
   },
   {
    "code": "arr.dtype",
    "id": "10a0d109a1b141d1b70d329b1aa11976",
    "idx": 25,
    "time": "2021-01-20T04:07:55.857Z",
    "type": "execution"
   },
   {
    "code": "# A regular Python list can store items of different data types\n[1, '3']",
    "id": "a298bdaab3444858994db09f45d57bda",
    "idx": 27,
    "time": "2021-01-20T04:07:55.859Z",
    "type": "execution"
   },
   {
    "code": "# Arrays will convert everything to the same data type\nnp.array([1, '3'])",
    "id": "f129c21f8fbc44ae9dde3b08ea17a9c6",
    "idx": 28,
    "time": "2021-01-20T04:07:55.861Z",
    "type": "execution"
   },
   {
    "code": "# Another example of array type conversion\nnp.array([5, 8.3])",
    "id": "ffb7286e199246cc9d8ea66d47928895",
    "idx": 29,
    "time": "2021-01-20T04:07:55.864Z",
    "type": "execution"
   },
   {
    "code": "# Python list addition will concatenate the two lists\n[1, 2, 3] + [4, 5, 6]",
    "id": "4c5805d787bd422c861c9ed5e42b1371",
    "idx": 31,
    "time": "2021-01-20T04:07:55.866Z",
    "type": "execution"
   },
   {
    "code": "# NumPy array addition will add them element-wise\nnp.array([1, 2, 3]) + np.array([4, 5, 6])",
    "id": "0b29c34b2550477785fe215f97d13604",
    "idx": 32,
    "time": "2021-01-20T04:07:55.868Z",
    "type": "execution"
   },
   {
    "code": "def summation(n):\n    \"\"\"Compute the summation i^3 + 3 * i^2 for 1 <= i <= n.\"\"\"\n    # BEGIN SOLUTION\n    if n < 1:\n        raise ValueError(\"n must be greater than or equal to 1\")\n    return sum((np.arange(1, n + 1) ** 3) + (3 * np.arange(1, n + 1) ** 2))\n    # END SOLUTION",
    "id": "b46a6ee98b1c42d48b9ddc1e4263169b",
    "idx": 35,
    "time": "2021-01-20T04:07:55.871Z",
    "type": "execution"
   },
   {
    "code": "# TEST\nsummation(1)",
    "id": "2f245094d7624eed8bbb87b2f50fc405",
    "idx": 36,
    "time": "2021-01-20T04:07:55.874Z",
    "type": "execution"
   },
   {
    "code": "# TEST\nsummation(2)",
    "id": "9635426415ab4d9b8a853ebf2f2b31fe",
    "idx": 37,
    "time": "2021-01-20T04:07:55.876Z",
    "type": "execution"
   },
   {
    "code": "# TEST\nsummation(100)",
    "id": "0e9da3b9554049a184ffb5dee206700a",
    "idx": 38,
    "time": "2021-01-20T04:07:55.878Z",
    "type": "execution"
   },
   {
    "code": "def elementwise_array_sum(list_1, list_2):\n    \"\"\"Compute x^2 + y^3 for each x, y in list_1, list_2. \n    \n    Assume list_1 and list_2 have the same length.\n    \n    Return a NumPy array.\n    \"\"\"\n    assert len(list_1) == len(list_2), \"both args must have the same number of elements\"\n    # BEGIN SOLUTION\n    # Solution 1\n    return np.square(list_1) + np.power(list_2, 3)\n    # Solution 2\n    return np.array(list_1) ** 2 + np.array(list_2) ** 3\n    # END SOLUTION",
    "id": "763d5f5df54e4913846efe3351195ed8",
    "idx": 40,
    "time": "2021-01-20T04:07:55.881Z",
    "type": "execution"
   },
   {
    "code": "# TEST\nelementwise_array_sum([], [])",
    "id": "b7afd360f3e941e1855ea24206be8dcc",
    "idx": 41,
    "time": "2021-01-20T04:07:55.884Z",
    "type": "execution"
   },
   {
    "code": "# TEST\nelementwise_array_sum([1], [1])",
    "id": "f489590c233b424bbfcf8c6787e9e57f",
    "idx": 42,
    "time": "2021-01-20T04:07:55.886Z",
    "type": "execution"
   },
   {
    "code": "# TEST\nelementwise_array_sum([-1], [1])",
    "id": "792d848910884ff48d91f4035ed2e464",
    "idx": 43,
    "time": "2021-01-20T04:07:55.888Z",
    "type": "execution"
   },
   {
    "code": "# TEST\nelementwise_array_sum([1], [-1])",
    "id": "f08c8a34cbfe4d8abb2b4d643a316c5b",
    "idx": 44,
    "time": "2021-01-20T04:07:55.890Z",
    "type": "execution"
   },
   {
    "code": "# TEST\nelementwise_array_sum([1, 2, 3], [1, 2, 3])",
    "id": "097914010efa4c5d840d4cd02a67dacf",
    "idx": 45,
    "time": "2021-01-20T04:07:55.893Z",
    "type": "execution"
   },
   {
    "code": "# TEST\nelementwise_array_sum([1, 5, 2], [3, 6, 6])",
    "id": "f789f115d1954ad199598c037b5c61fb",
    "idx": 46,
    "time": "2021-01-20T04:07:55.895Z",
    "type": "execution"
   },
   {
    "code": "# TEST\ntype(elementwise_array_sum([], [])) is np.ndarray",
    "id": "1ad148f4cf2e417684dd81b8a4534d5f",
    "idx": 47,
    "time": "2021-01-20T04:07:55.897Z",
    "type": "execution"
   },
   {
    "code": "def elementwise_list_sum(list_1, list_2):\n    \"\"\"Compute x^2 + y^3 for each x, y in list_1, list_2. \n    \n    Assume list_1 and list_2 have the same length.\n    \"\"\"\n\n    return [x ** 2 + y ** 3 for x, y in zip(list_1, list_2)]",
    "id": "cd9bd8148bdf4855a1a7f35dd8186595",
    "idx": 49,
    "time": "2021-01-20T04:07:55.899Z",
    "type": "execution"
   },
   {
    "code": "sample_list_1 = list(range(10))\nsample_array_1 = np.arange(10)",
    "id": "28b5a64027f1474287e46c447ad4534d",
    "idx": 51,
    "time": "2021-01-20T04:07:55.905Z",
    "type": "execution"
   },
   {
    "code": "%%time\nelementwise_list_sum(sample_list_1, sample_list_1)",
    "id": "50c5455db68c476a8328d732020b8c6e",
    "idx": 52,
    "time": "2021-01-20T04:07:55.907Z",
    "type": "execution"
   },
   {
    "code": "%%time\nelementwise_array_sum(sample_array_1, sample_array_1)",
    "id": "f9c91e126ac34f43bc0ade2d6dea0660",
    "idx": 53,
    "time": "2021-01-20T04:07:55.908Z",
    "type": "execution"
   },
   {
    "code": "sample_list_2 = list(range(100000))\nsample_array_2 = np.arange(100000)",
    "id": "b4e6d47b35f24c9ca24194ec3edd7be3",
    "idx": 55,
    "time": "2021-01-20T04:07:55.910Z",
    "type": "execution"
   },
   {
    "code": "%%time\nelementwise_list_sum(sample_list_2, sample_list_2)\n; # The semicolon hides the output",
    "id": "4bd9d4bb5cfb40728575a08f5bf62dbf",
    "idx": 56,
    "time": "2021-01-20T04:07:55.912Z",
    "type": "execution"
   },
   {
    "code": "%%time\nelementwise_array_sum(sample_array_2, sample_array_2)\n;",
    "id": "2606c05039bc48b882a20ebf5b3193ee",
    "idx": 57,
    "time": "2021-01-20T04:07:55.915Z",
    "type": "execution"
   },
   {
    "code": "def mean(population):\n    \"\"\"\n    Returns the mean of population (mu)\n    \n    Keyword arguments:\n    population -- a numpy array of numbers\n    \"\"\"\n    # Calculate the mean of a population\n    return sum(population) / len(population) # SOLUTION\n\ndef variance(population):\n    \"\"\"\n    Returns the variance of population (sigma squared)\n    \n    Keyword arguments:\n    population -- a numpy array of numbers\n    \"\"\"\n    # Calculate the variance of a population\n    # BEGIN SOLUTION\n    m = mean(population)\n    return sum((population - m) ** 2) / len(population)\n    # END SOLUTION",
    "id": "97830029429f4f4f8e012d1b775e58b7",
    "idx": 60,
    "time": "2021-01-20T04:07:55.917Z",
    "type": "execution"
   },
   {
    "code": "# TEST\npopulation_0 = np.random.randn(100)\nnp.isclose(mean(population_0), np.mean(population_0), atol=1e-6)",
    "id": "1fad5816e9794eb29d262f433b6f479a",
    "idx": 61,
    "time": "2021-01-20T04:07:55.920Z",
    "type": "execution"
   },
   {
    "code": "# HIDDEN TEST\npopulation_1 = 3 * np.random.randn(100) + 5\nnp.isclose(mean(population_1), np.mean(population_1), atol=1e-6)",
    "id": "f405ce7f587d4e0e84f685e629788b1d",
    "idx": 62,
    "time": "2021-01-20T04:07:55.922Z",
    "type": "execution"
   },
   {
    "code": "# TEST\npopulation_0 = np.random.randn(100)\nnp.isclose(variance(population_0), np.var(population_0), atol=1e-6)",
    "id": "57727c80327441d9ba5495b8ffee2b73",
    "idx": 63,
    "time": "2021-01-20T04:07:55.924Z",
    "type": "execution"
   },
   {
    "code": "# HIDDEN TEST\npopulation_1 = 3 * np.random.randn(100) + 5\nnp.isclose(variance(population_1), np.var(population_1), atol=1e-6)",
    "id": "918d1dd31d0e49d2b49f5385889e9512",
    "idx": 64,
    "time": "2021-01-20T04:07:55.926Z",
    "type": "execution"
   },
   {
    "code": "np.random.seed(42)\nrandom_arr = np.random.rand(60)\nvalid_values = random_arr[(2 * random_arr ** 4 > 1)] # SOLUTION",
    "id": "72d8e5dc69f0402bb5c7fdff9c72ef1d",
    "idx": 66,
    "time": "2021-01-20T04:07:55.929Z",
    "type": "execution"
   },
   {
    "code": "# TEST\nvalid_values",
    "id": "d1e4cbf47296448a8f4f1b77ae8da776",
    "idx": 67,
    "time": "2021-01-20T04:07:55.931Z",
    "type": "execution"
   },
   {
    "code": "# TEST\nlen(valid_values) == 10",
    "id": "abde7e2237d745dc866612ceed1bf39f",
    "idx": 68,
    "time": "2021-01-20T04:07:55.933Z",
    "type": "execution"
   },
   {
    "code": "# TEST\nnp.allclose(valid_values, [0.95071431, 0.86617615, 0.96990985, 0.94888554, 0.96563203,\n       0.9093204 , 0.96958463, 0.93949894, 0.89482735, 0.92187424])",
    "id": "683e67f62f8f45b9a71f0b7c67cf1534",
    "idx": 69,
    "time": "2021-01-20T04:07:55.936Z",
    "type": "execution"
   },
   {
    "code": "def f(x):\n    return x ** 2 # SOLUTION\n    \ndef df(x):\n    return 2 * x # SOLUTION\n\ndef plot(f, df):              \n    # BEGIN SOLUTION\n    x = np.linspace(-15, 15, 100)\n\n    plt.figure(figsize = (4, 4))\n    plt.plot(x, f(x))\n    plt.plot(x, np.zeros(x.shape[0]))\n    plt.plot(x, df(8) * (x - 8) + f(8))\n    \n    plt.xlim(-15, 15)\n    plt.ylim(-100, 300)\n    # END SOLUTION\n\nplot(f, df)",
    "id": "3c17971900634539b93c4b69290429c3",
    "idx": 76,
    "time": "2021-01-20T04:07:55.940Z",
    "type": "execution"
   },
   {
    "code": "from mpl_toolkits.mplot3d import axes3d\n\nu = np.linspace(1.5 * np.pi, -1.5 * np.pi, 100)\n# Your answer here\n[x, y] = np.meshgrid(u, u)\n# Your answer here\nsquared = np.sqrt(x.flatten() ** 2 + y.flatten() ** 2)\nz = np.cos(squared)\n# Your answer here\nz = z.reshape(x.shape)\n# Your answer here\n\nfig = plt.figure(figsize = (6, 6))\nax = fig.add_subplot(111, projection = '3d')\n# Your answer here\nax.plot_wireframe(x, y, z, rstride = 5, cstride = 5, lw = 2)\n# Your answer here\nax.view_init(elev = 60, azim = 25)\n# Your answer here\nplt.savefig(\"figure1.png\")\n# Your answer here",
    "id": "37753460f8d74baa81ef72ab24ef79fa",
    "idx": 78,
    "time": "2021-01-20T04:07:55.943Z",
    "type": "execution"
   },
   {
    "id": "807e162b55dd45268f4875933415b47d",
    "time": "2021-01-20T04:07:56.033Z",
    "type": "completion"
   },
   {
    "id": "242d58b36c814c338b4727ca3c4e2549",
    "time": "2021-01-20T04:07:56.036Z",
    "type": "completion"
   },
   {
    "id": "fa2541590ca841538efcb8cba37bc837",
    "time": "2021-01-20T04:07:56.446Z",
    "type": "completion"
   },
   {
    "id": "f8f4557ca5e946d883be7d5cafa5b4c6",
    "time": "2021-01-20T04:07:56.451Z",
    "type": "completion"
   },
   {
    "id": "b7023548740749068c12194cafd51054",
    "time": "2021-01-20T04:07:56.487Z",
    "type": "completion"
   },
   {
    "id": "dd201ff489714308b8bcf0e12a56d8e8",
    "time": "2021-01-20T04:07:56.495Z",
    "type": "completion"
   },
   {
    "id": "000eedbc928e4b2a8eabd69127d442bc",
    "time": "2021-01-20T04:07:56.501Z",
    "type": "completion"
   },
   {
    "id": "6b47bf4f1dcb4632894a91a43e80b9b6",
    "time": "2021-01-20T04:07:56.503Z",
    "type": "completion"
   },
   {
    "id": "222425d5d3394b74822cd9ad8483d235",
    "time": "2021-01-20T04:07:56.506Z",
    "type": "completion"
   },
   {
    "id": "bdf3d5bc4c84478c9b07da233fce2f27",
    "time": "2021-01-20T04:07:56.548Z",
    "type": "completion"
   },
   {
    "id": "10a0d109a1b141d1b70d329b1aa11976",
    "time": "2021-01-20T04:07:56.552Z",
    "type": "completion"
   },
   {
    "id": "a298bdaab3444858994db09f45d57bda",
    "time": "2021-01-20T04:07:56.553Z",
    "type": "completion"
   },
   {
    "id": "f129c21f8fbc44ae9dde3b08ea17a9c6",
    "time": "2021-01-20T04:07:56.556Z",
    "type": "completion"
   },
   {
    "id": "ffb7286e199246cc9d8ea66d47928895",
    "time": "2021-01-20T04:07:56.557Z",
    "type": "completion"
   },
   {
    "id": "4c5805d787bd422c861c9ed5e42b1371",
    "time": "2021-01-20T04:07:56.610Z",
    "type": "completion"
   },
   {
    "id": "0b29c34b2550477785fe215f97d13604",
    "time": "2021-01-20T04:07:56.613Z",
    "type": "completion"
   },
   {
    "id": "b46a6ee98b1c42d48b9ddc1e4263169b",
    "time": "2021-01-20T04:07:56.614Z",
    "type": "completion"
   },
   {
    "id": "2f245094d7624eed8bbb87b2f50fc405",
    "time": "2021-01-20T04:07:56.616Z",
    "type": "completion"
   },
   {
    "id": "9635426415ab4d9b8a853ebf2f2b31fe",
    "time": "2021-01-20T04:07:56.660Z",
    "type": "completion"
   },
   {
    "id": "0e9da3b9554049a184ffb5dee206700a",
    "time": "2021-01-20T04:07:56.664Z",
    "type": "completion"
   },
   {
    "id": "763d5f5df54e4913846efe3351195ed8",
    "time": "2021-01-20T04:07:56.665Z",
    "type": "completion"
   },
   {
    "id": "b7afd360f3e941e1855ea24206be8dcc",
    "time": "2021-01-20T04:07:56.667Z",
    "type": "completion"
   },
   {
    "id": "f489590c233b424bbfcf8c6787e9e57f",
    "time": "2021-01-20T04:07:56.670Z",
    "type": "completion"
   },
   {
    "id": "792d848910884ff48d91f4035ed2e464",
    "time": "2021-01-20T04:07:56.712Z",
    "type": "completion"
   },
   {
    "id": "f08c8a34cbfe4d8abb2b4d643a316c5b",
    "time": "2021-01-20T04:07:56.715Z",
    "type": "completion"
   },
   {
    "id": "097914010efa4c5d840d4cd02a67dacf",
    "time": "2021-01-20T04:07:56.716Z",
    "type": "completion"
   },
   {
    "id": "f789f115d1954ad199598c037b5c61fb",
    "time": "2021-01-20T04:07:56.719Z",
    "type": "completion"
   },
   {
    "id": "1ad148f4cf2e417684dd81b8a4534d5f",
    "time": "2021-01-20T04:07:56.721Z",
    "type": "completion"
   },
   {
    "id": "cd9bd8148bdf4855a1a7f35dd8186595",
    "time": "2021-01-20T04:07:56.818Z",
    "type": "completion"
   },
   {
    "id": "28b5a64027f1474287e46c447ad4534d",
    "time": "2021-01-20T04:07:56.825Z",
    "type": "completion"
   },
   {
    "id": "50c5455db68c476a8328d732020b8c6e",
    "time": "2021-01-20T04:07:56.827Z",
    "type": "completion"
   },
   {
    "id": "f9c91e126ac34f43bc0ade2d6dea0660",
    "time": "2021-01-20T04:07:56.829Z",
    "type": "completion"
   },
   {
    "id": "b4e6d47b35f24c9ca24194ec3edd7be3",
    "time": "2021-01-20T04:07:56.831Z",
    "type": "completion"
   },
   {
    "id": "4bd9d4bb5cfb40728575a08f5bf62dbf",
    "time": "2021-01-20T04:07:56.832Z",
    "type": "completion"
   },
   {
    "id": "2606c05039bc48b882a20ebf5b3193ee",
    "time": "2021-01-20T04:07:56.866Z",
    "type": "completion"
   },
   {
    "id": "97830029429f4f4f8e012d1b775e58b7",
    "time": "2021-01-20T04:07:56.867Z",
    "type": "completion"
   },
   {
    "id": "1fad5816e9794eb29d262f433b6f479a",
    "time": "2021-01-20T04:07:56.869Z",
    "type": "completion"
   },
   {
    "id": "f405ce7f587d4e0e84f685e629788b1d",
    "time": "2021-01-20T04:07:56.870Z",
    "type": "completion"
   },
   {
    "id": "57727c80327441d9ba5495b8ffee2b73",
    "time": "2021-01-20T04:07:56.871Z",
    "type": "completion"
   },
   {
    "id": "918d1dd31d0e49d2b49f5385889e9512",
    "time": "2021-01-20T04:07:56.909Z",
    "type": "completion"
   },
   {
    "id": "72d8e5dc69f0402bb5c7fdff9c72ef1d",
    "time": "2021-01-20T04:07:56.911Z",
    "type": "completion"
   },
   {
    "id": "d1e4cbf47296448a8f4f1b77ae8da776",
    "time": "2021-01-20T04:07:56.935Z",
    "type": "completion"
   },
   {
    "id": "abde7e2237d745dc866612ceed1bf39f",
    "time": "2021-01-20T04:07:56.940Z",
    "type": "completion"
   },
   {
    "id": "683e67f62f8f45b9a71f0b7c67cf1534",
    "time": "2021-01-20T04:07:56.942Z",
    "type": "completion"
   },
   {
    "id": "3c17971900634539b93c4b69290429c3",
    "time": "2021-01-20T04:07:56.967Z",
    "type": "completion"
   },
   {
    "id": "37753460f8d74baa81ef72ab24ef79fa",
    "time": "2021-01-20T04:07:57.446Z",
    "type": "completion"
   },
   {
    "code": "from IPython.display import YouTube\nYouTube(\"OOrH9ziDJI4\")",
    "id": "d139117a96734105868c4332b0dc0a3c",
    "idx": 3,
    "time": "2021-01-22T20:17:34.790Z",
    "type": "execution"
   },
   {
    "id": "d139117a96734105868c4332b0dc0a3c",
    "time": "2021-01-22T20:17:34.941Z",
    "type": "completion"
   },
   {
    "code": "from IPython import YouTube\nYouTube(\"OOrH9ziDJI4\")",
    "id": "d139117a96734105868c4332b0dc0a3c",
    "idx": 3,
    "time": "2021-01-22T20:17:39.107Z",
    "type": "execution"
   },
   {
    "id": "d139117a96734105868c4332b0dc0a3c",
    "time": "2021-01-22T20:17:39.220Z",
    "type": "completion"
   },
   {
    "code": "from IPython.displau import YouTubeVideo\nYouTubeVideo(\"OOrH9ziDJI4\")",
    "id": "d139117a96734105868c4332b0dc0a3c",
    "idx": 3,
    "time": "2021-01-22T20:17:53.827Z",
    "type": "execution"
   },
   {
    "id": "d139117a96734105868c4332b0dc0a3c",
    "time": "2021-01-22T20:17:53.921Z",
    "type": "completion"
   },
   {
    "code": "from IPython.display import YouTubeVideo\nYouTubeVideo(\"OOrH9ziDJI4\")",
    "id": "d139117a96734105868c4332b0dc0a3c",
    "idx": 3,
    "time": "2021-01-22T20:17:56.204Z",
    "type": "execution"
   },
   {
    "id": "d139117a96734105868c4332b0dc0a3c",
    "time": "2021-01-22T20:17:56.645Z",
    "type": "completion"
   },
   {
    "code": "from IPython.display import YouTubeVideo\nYouTubeVideo(\"OOrH9ziDJI4\", width=600)",
    "id": "d139117a96734105868c4332b0dc0a3c",
    "idx": 3,
    "time": "2021-01-22T20:18:01.533Z",
    "type": "execution"
   },
   {
    "id": "d139117a96734105868c4332b0dc0a3c",
    "time": "2021-01-22T20:18:01.865Z",
    "type": "completion"
   },
   {
    "code": "from IPython.display import YouTubeVideo\nYouTubeVideo(\"OOrH9ziDJI4\", width=600, height=400)",
    "id": "d139117a96734105868c4332b0dc0a3c",
    "idx": 3,
    "time": "2021-01-22T20:18:06.130Z",
    "type": "execution"
   },
   {
    "id": "d139117a96734105868c4332b0dc0a3c",
    "time": "2021-01-22T20:18:06.397Z",
    "type": "completion"
   },
   {
    "code": "from IPython.display import YouTubeVideo\nYouTubeVideo(\"OOrH9ziDJI4\")",
    "id": "d139117a96734105868c4332b0dc0a3c",
    "idx": 3,
    "time": "2021-01-22T20:20:26.675Z",
    "type": "execution"
   },
   {
    "id": "d139117a96734105868c4332b0dc0a3c",
    "time": "2021-01-22T20:20:27.000Z",
    "type": "completion"
   }
  ],
  "kernelspec": {
   "display_name": "Python 3",
   "language": "python",
   "name": "python3"
  },
  "language_info": {
   "codemirror_mode": {
    "name": "ipython",
    "version": 3
   },
   "file_extension": ".py",
   "mimetype": "text/x-python",
   "name": "python",
   "nbconvert_exporter": "python",
   "pygments_lexer": "ipython3",
   "version": "3.8.5"
  },
  "toc": {
   "colors": {
    "hover_highlight": "#DAA520",
    "running_highlight": "#FF0000",
    "selected_highlight": "#FFD700"
   },
   "moveMenuLeft": true,
   "nav_menu": {
    "height": "156px",
    "width": "252px"
   },
   "navigate_menu": true,
   "number_sections": true,
   "sideBar": true,
   "threshold": 4,
   "toc_cell": true,
   "toc_section_display": "block",
   "toc_window_display": true
  }
 },
 "nbformat": 4,
 "nbformat_minor": 2
}
