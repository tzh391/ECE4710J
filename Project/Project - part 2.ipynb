{
 "cells": [
  {
   "cell_type": "markdown",
   "id": "771470a2",
   "metadata": {},
   "source": [
    "# Project Part II: Predicting Housing Prices - Build Your Own Model\n",
    "\n",
    " "
   ]
  },
  {
   "cell_type": "markdown",
   "id": "ee479efa",
   "metadata": {},
   "source": [
    "### Grading Scheme\n",
    "\n",
    "Your grade for the project will be based on your training RMSE and test RMSE. The thresholds are as follows:\n",
    "\n",
    "Points | 9 | 7 | 5 | 3\n",
    "--- | --- | --- | --- | ---\n",
    "Training RMSE | Less than 60k | [60k, 120k) | [120k, 200k) | More than 230k\n",
    "\n",
    "Points | 9 | 7 | 5 | 3\n",
    "--- | --- | --- | --- | ---\n",
    "Test RMSE | Less than 65k | [65k, 130k) | [130k, 230k) | More than 230k\n",
    "\n",
    "The top 20% of the submissions with the least testing errors will receive the additional two points\n"
   ]
  },
  {
   "cell_type": "code",
   "execution_count": 1,
   "id": "7264d682",
   "metadata": {},
   "outputs": [],
   "source": [
    "# Some Imports You Might Need\n",
    "import numpy as np\n",
    "import pandas as pd\n",
    "from pandas.api.types import CategoricalDtype\n",
    "\n",
    "%matplotlib inline\n",
    "import matplotlib.pyplot as plt\n",
    "import seaborn as sns\n",
    "\n",
    "import warnings\n",
    "warnings.filterwarnings(\"ignore\")\n",
    "\n",
    "import zipfile\n",
    "import os\n",
    "\n",
    "from sklearn.preprocessing import OneHotEncoder\n",
    "from sklearn import linear_model as lm\n",
    "\n",
    "# Plot settings\n",
    "plt.rcParams['figure.figsize'] = (12, 9)\n",
    "plt.rcParams['font.size'] = 12\n",
    "\n",
    "# Extract Dataset\n",
    "with zipfile.ZipFile('cook_county_contest_data.zip') as item:\n",
    "    item.extractall()\n",
    "    \n",
    "    \n",
    "### Note: we filtered the data in cook_county_contest_data, \n",
    "####so please use this dataset instead of the old one."
   ]
  },
  {
   "cell_type": "markdown",
   "id": "7f18a2b2",
   "metadata": {},
   "source": [
    "### Note\n",
    "\n",
    "This notebook is specifically designed to guide you through the process of exporting your model's predictions on the test dataset for submission so you can see how your model performs.\n",
    "\n",
    "Most of what you have done in project part I should be transferrable here. "
   ]
  },
  {
   "cell_type": "markdown",
   "id": "47986d34",
   "metadata": {},
   "source": [
    "## Step 1. Set up all the helper functions for your `process_data_fm` function.\n",
    "\n",
    "**Copy-paste all of the helper functions your `process_data_fm` need here in the following cell**. You **do not** have to fill out all of the functions in the cell below -- only fill out those that are actually useful to your feature engineering pipeline."
   ]
  },
  {
   "cell_type": "code",
   "execution_count": 2,
   "id": "0c1b7491",
   "metadata": {},
   "outputs": [],
   "source": [
    "def add_total_bedrooms(data):\n",
    "    \"\"\"\n",
    "    Input:\n",
    "      data (data frame): a data frame containing at least the Description column.\n",
    "    \"\"\"\n",
    "    with_rooms = data.copy()\n",
    "    with_rooms['Bedrooms'] = with_rooms['Description'].str.extract(r'(\\d+) of which').fillna(0).astype(int)\n",
    "    return with_rooms\n",
    "\n",
    "def ohe_roof_material(data):\n",
    "    \"\"\"\n",
    "    One-hot-encodes roof material.  New columns are of the form 0x_QUALITY.\n",
    "    \"\"\"\n",
    "    one_hot_encoder = OneHotEncoder()\n",
    "    data[one_hot_encoder.get_feature_names()] = one_hot_encoder.fit_transform(data[['Roof Material']]).todense()\n",
    "    return data\n",
    "\n",
    "def remove_outliers(data, variable, lower=-np.inf, upper=np.inf):\n",
    "    \"\"\"\n",
    "    Input:\n",
    "      data (data frame): the table to be filtered\n",
    "      variable (string): the column with numerical outliers\n",
    "      lower (numeric): observations with values lower than this will be removed\n",
    "      upper (numeric): observations with values higher than this will be removed\n",
    "    \n",
    "    Output:\n",
    "      a winsorized data frame with outliers removed\n",
    "      \n",
    "    Note: This function should not change mutate the contents of data.\n",
    "    \"\"\"  \n",
    "    return data[(data[variable] <= upper) & (data[variable] >= lower)]\n",
    "\n",
    "def add_bathrooms(data):\n",
    "    with_rooms = data.copy()\n",
    "    with_rooms['Bathrooms'] = with_rooms['Description'].str.extract(r'(d+) of which are bathrooms').fillna(0).astype(int)\n",
    "    return with_rooms\n",
    "\n",
    "def add_total_rooms(data):\n",
    "    \n",
    "    with_rooms = data.copy()\n",
    "    with_rooms['Rooms'] = with_rooms['Description'].str.extract(r'has a total of (\\d+) rooms').fillna(0).astype(int)\n",
    "    return with_rooms\n",
    "def substitute_roof_material(data):\n",
    "    \"\"\"\n",
    "    Input:\n",
    "      data (data frame): a data frame containing a 'Roof Material' column.  Its values\n",
    "                         should be limited to those found in the codebook\n",
    "    Output:\n",
    "      data frame identical to the input except with a refactored 'Roof Material' column\n",
    "    \"\"\"\n",
    "    data = data.replace({'Roof Material': {1: 'Shingle/Asphalt',2: 'Tar&Gravel',3: 'Slate',4: 'Shake',5: 'Tile',6: 'Other' }})\n",
    "    return data\n",
    "\n",
    "\n",
    "# This makes the train-test split in this section reproducible across different runs \n",
    "# of the notebook. You do not need this line to run train_test_split in general\n",
    "\n",
    "# DO NOT CHANGE THIS LINE\n",
    "np.random.seed(1337)\n",
    "# DO NOT CHANGE THIS LINE\n",
    "\n",
    "def train_test_split(data):\n",
    "    data_len = data.shape[0]\n",
    "    shuffled_indices = np.random.permutation(data_len)\n",
    "    train_indices = shuffled_indices[:int(0.8*data_len)]\n",
    "    test_indices = shuffled_indices[int(0.8*data_len):]\n",
    "    return data.iloc[train_indices], data.iloc[test_indices]\n",
    "\n",
    "\n",
    "\n",
    "\n",
    "\n",
    "\n",
    "\n",
    "\n",
    "def process_data_gm(data, pipeline_functions, prediction_col):\n",
    "    \"\"\"Process the data for a guided model.\"\"\"\n",
    "    \n",
    "    for function, arguments, keyword_arguments in pipeline_functions:\n",
    "        if keyword_arguments and (not arguments):\n",
    "            data = data.pipe(function, **keyword_arguments)\n",
    "        elif (not keyword_arguments) and (arguments):\n",
    "            data = data.pipe(function, *arguments)\n",
    "        else:\n",
    "            data = data.pipe(function)\n",
    "    X = data.drop(columns=[prediction_col]).to_numpy()\n",
    "    y = data.loc[:, prediction_col].to_numpy()\n",
    "    return X, y\n",
    "\n",
    "def select_columns(data, *columns):\n",
    "    \"\"\"Select only columns passed as arguments.\"\"\"\n",
    "    return data.loc[:, columns]"
   ]
  },
  {
   "cell_type": "markdown",
   "id": "d603c057",
   "metadata": {},
   "source": [
    "## Step 2. Setup your `process_data_fm` function\n",
    "\n",
    "**Create your implementation of `process_data_fm` from into the following cell.**\n",
    "\n",
    "Here are a few additional things **you should check and change to make sure your `process_data_fm` function satisfies**:\n",
    "- Unlike part 1, we will not be expecting your `process_data_fm` function to return both the design matrix `X` and the observed target vector `y`; your function should now **only return X**.\n"
   ]
  },
  {
   "cell_type": "code",
   "execution_count": 3,
   "id": "442b6149",
   "metadata": {},
   "outputs": [],
   "source": [
    "train_data = pd.read_csv('cook_county_contest_data/cook_county_contest_train.csv')\n",
    "train_data.head()\n",
    "test_data = pd.read_csv('cook_county_contest_data/cook_county_contest_test.csv')"
   ]
  },
  {
   "cell_type": "code",
   "execution_count": 4,
   "id": "907226a4",
   "metadata": {},
   "outputs": [],
   "source": [
    "# Define any additional helper functions you need here\n",
    "\n",
    "np.random.seed(1338)\n",
    "# DO NOT CHANGE THIS LINE\n",
    "\n",
    "# Process the data using the pipeline for the second model\n",
    "train_m3, test_m3 = train_test_split(train_data)\n",
    "def log_transformations(data, col):\n",
    "    data['Log ' + col] = np.log(data[col])\n",
    "    return data\n",
    "train_m3 = remove_outliers(train_m3, 'Sale Price', lower = 45000, upper = 300000)\n",
    "train_m3 = substitute_roof_material(train_m3)\n",
    "train_m3 = ohe_roof_material(train_m3)\n",
    "one_hot_roof_cols = train_m3.filter(regex='^0x').columns.tolist()\n",
    "\n",
    "\n",
    "m3_pipelines = [\n",
    "    (remove_outliers, [\"Sale Price\", 499], None),\n",
    "    (log_transformations, [\"Sale Price\"], None),\n",
    "    (log_transformations, [\"Building Square Feet\"], None),\n",
    "    (add_total_bedrooms, None, None),\n",
    "    (add_bathrooms, None, None),\n",
    "    (add_total_rooms, None, None),\n",
    "    (select_columns, ['Log Sale Price', 'Bedrooms', 'Log Building Square Feet','Bathrooms','Rooms','Age', 'Lot Size','Road Proximity','Repair Condition'], None)\n",
    "]\n",
    "\n",
    "\n",
    "X_train_m3, y_train_m3 = process_data_gm(train_m3, m3_pipelines, 'Log Sale Price')\n",
    "X_test_m3, y_test_m3 = process_data_gm(test_m3, m3_pipelines, 'Log Sale Price')\n",
    "\n",
    "# Please include all of your feature engineering process inside this function.\n",
    "# Do not modify the parameters of this function.\n",
    "def process_data_fm(data):\n",
    "    \n",
    "    # Return predictors and response variables separately\n",
    "    X = data.drop(['Log Sale Price'], axis = 1)\n",
    "    y = data.loc[:, 'Log Sale Price']\n",
    "    \n",
    "    return X, y"
   ]
  },
  {
   "cell_type": "markdown",
   "id": "30380105",
   "metadata": {},
   "source": [
    "## Step 3. Train your model\n",
    "\n",
    "Run the following cell to import the new set of training data to fit your model on. **You can use any regression model, the following is just an example** If your `process_data_fm` satisfies all the specified requirements, the cell should run without any error.\n",
    "\n",
    "**As usual**, your model will predict the log-transformed sale price, and our grading will transform your predictions back to the normal vlaues."
   ]
  },
  {
   "cell_type": "code",
   "execution_count": 5,
   "id": "6bfa0ba5",
   "metadata": {},
   "outputs": [],
   "source": [
    "from sklearn import linear_model as lm\n",
    "\n",
    "linear_model_m3 = lm.LinearRegression(fit_intercept=True)"
   ]
  },
  {
   "cell_type": "code",
   "execution_count": 6,
   "id": "b35f373d",
   "metadata": {
    "scrolled": true
   },
   "outputs": [],
   "source": [
    "# Fit the 1st model\n",
    "# Compute the fitted and predicted values of Sale Price for 1st model\n",
    "\n",
    "y_fitted_m3 = linear_model_m3.fit(X_train_m3, y_train_m3).predict(X_train_m3)\n",
    "y_predicted_m3 = linear_model_m3.fit(X_test_m3, y_test_m3).predict(X_test_m3)"
   ]
  },
  {
   "cell_type": "markdown",
   "id": "0ca5c4e0",
   "metadata": {},
   "source": [
    "## Step 4. Make Predictions on the Test Dataset\n",
    "\n",
    "Run the following cell to estimate the sale price on the test dataset and export your model's predictions as a csv file called `predictions.csv`."
   ]
  },
  {
   "cell_type": "code",
   "execution_count": 7,
   "id": "f1741775",
   "metadata": {},
   "outputs": [],
   "source": [
    "def rmse(predicted, actual):\n",
    "  \"\"\"\n",
    "  Calculates RMSE from actual and predicted values\n",
    "  Input:\n",
    "    predicted (1D array): vector of predicted/fitted values\n",
    "    actual (1D array): vector of actual values\n",
    "  Output:\n",
    "    a float, the root-mean square error\n",
    "  \"\"\"\n",
    "  return np.sqrt(np.mean((actual - predicted)**2))"
   ]
  },
  {
   "cell_type": "code",
   "execution_count": 8,
   "id": "2dc01b81",
   "metadata": {},
   "outputs": [
    {
     "name": "stdout",
     "output_type": "stream",
     "text": [
      "Model\n",
      "Training RMSE: 0.47350419752441103\n",
      "\n",
      "Model (no log transform)\n",
      "Training RMSE: 69752.60033437963\n",
      "\n"
     ]
    }
   ],
   "source": [
    "# Training and test errors for the 1st model\n",
    "training_error_m3 = rmse(y_fitted_m3, y_train_m3)\n",
    "\n",
    "\n",
    "# Training and test errors for the 1st model (in its original values before the log transform)\n",
    "training_error_m3_delog = rmse(np.exp(y_fitted_m3), np.exp(y_train_m3)) \n",
    "\n",
    "print(\"Model\\nTraining RMSE: {}\\n\".format(training_error_m3))\n",
    "print(\"Model (no log transform)\\nTraining RMSE: {}\\n\".format(training_error_m3_delog))\n"
   ]
  },
  {
   "cell_type": "code",
   "execution_count": 9,
   "id": "9c6a7a65",
   "metadata": {},
   "outputs": [
    {
     "name": "stdout",
     "output_type": "stream",
     "text": [
      "Your predictions have been exported as predictions.csv. Please download the file and submit it to Canvas. \n"
     ]
    }
   ],
   "source": [
    "#test_data = pd.read_csv('cook_county_contest_test.csv')\n",
    "#X_test = process_data_fm(test_data)\n",
    "#y_test_predicted = model.predict(X_test)\n",
    "###If you took log in the prediction, please convert it back to regular scale\n",
    "###Check y_test_predicts has the same range of your sale price in training\n",
    "predictions = pd.DataFrame({'Sale Price': y_test_m3})\n",
    "predictions = np.exp(predictions)\n",
    "predictions.to_csv('predictions.csv')\n",
    "print('Your predictions have been exported as predictions.csv. Please download the file and submit it to Canvas. ')"
   ]
  }
 ],
 "metadata": {
  "kernelspec": {
   "display_name": "Python 3 (ipykernel)",
   "language": "python",
   "name": "python3"
  },
  "language_info": {
   "codemirror_mode": {
    "name": "ipython",
    "version": 3
   },
   "file_extension": ".py",
   "mimetype": "text/x-python",
   "name": "python",
   "nbconvert_exporter": "python",
   "pygments_lexer": "ipython3",
   "version": "3.8.10"
  }
 },
 "nbformat": 4,
 "nbformat_minor": 5
}
